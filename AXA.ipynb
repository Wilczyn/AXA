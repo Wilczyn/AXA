{
 "cells": [
  {
   "cell_type": "markdown",
   "metadata": {},
   "source": [
    "# AXA case - Adam Wilczyński"
   ]
  },
  {
   "cell_type": "markdown",
   "metadata": {},
   "source": [
    "## 1. Wstęp"
   ]
  },
  {
   "cell_type": "code",
   "execution_count": 1,
   "metadata": {},
   "outputs": [],
   "source": [
    "import pandas as pd\n",
    "import numpy as np\n",
    "import os\n",
    "import matplotlib.pyplot as plt\n",
    "import seaborn as sns\n",
    "from sklearn.metrics import mean_squared_error\n",
    "from math import sqrt\n",
    "import statsmodels.api as sm\n",
    "import statsmodels.formula.api as smf"
   ]
  },
  {
   "cell_type": "code",
   "execution_count": 2,
   "metadata": {},
   "outputs": [],
   "source": [
    "# Ważony Gini przepisany na Python. Trochę zmieniłem argumenty\n",
    "def weightedGini(df):\n",
    "    df = df.sort_values(by='Prediction')\n",
    "    df.reset_index(inplace=True)\n",
    "    df['random'] = (df['Exposure']/sum(df['Exposure'])).cumsum()\n",
    "    totalPositive = sum(df['ClaimNb']*df['Exposure'])\n",
    "    df['cumPosFound'] = (df['ClaimNb']*df['Exposure']).cumsum()\n",
    "    df['Lorenz'] = df['cumPosFound'] / totalPositive\n",
    "    n = len(df)-1\n",
    "    A = np.array(df['Lorenz'].drop(0))\n",
    "    B = np.array(df['random'].drop(n))\n",
    "    C = np.array(df['Lorenz'].drop(n))\n",
    "    D = np.array(df['random'].drop(0))\n",
    "    gini = sum(A*B) - sum(C*D)\n",
    "    return gini"
   ]
  },
  {
   "cell_type": "code",
   "execution_count": 3,
   "metadata": {},
   "outputs": [],
   "source": [
    "# Import danych\n",
    "os.chdir('C:/Users/adamw/Desktop/AXA case/MTPLfreq')\n",
    "df = pd.read_csv('MTPLfreq.csv')\n",
    "df.set_index('PolicyID', inplace = True)\n",
    "pd.options.display.float_format = '{:,.2f}'.format"
   ]
  },
  {
   "cell_type": "markdown",
   "metadata": {},
   "source": [
    "## 2. Przegląd danych i wstępne wnioski"
   ]
  },
  {
   "cell_type": "markdown",
   "metadata": {},
   "source": [
    "### 2.1 zmienne ilościowe"
   ]
  },
  {
   "cell_type": "code",
   "execution_count": 8,
   "metadata": {},
   "outputs": [
    {
     "data": {
      "text/html": [
       "<div>\n",
       "<style scoped>\n",
       "    .dataframe tbody tr th:only-of-type {\n",
       "        vertical-align: middle;\n",
       "    }\n",
       "\n",
       "    .dataframe tbody tr th {\n",
       "        vertical-align: top;\n",
       "    }\n",
       "\n",
       "    .dataframe thead th {\n",
       "        text-align: right;\n",
       "    }\n",
       "</style>\n",
       "<table border=\"1\" class=\"dataframe\">\n",
       "  <thead>\n",
       "    <tr style=\"text-align: right;\">\n",
       "      <th></th>\n",
       "      <th>ClaimNb</th>\n",
       "      <th>Exposure</th>\n",
       "      <th>CarAge</th>\n",
       "      <th>DriverAge</th>\n",
       "      <th>Density</th>\n",
       "    </tr>\n",
       "  </thead>\n",
       "  <tbody>\n",
       "    <tr>\n",
       "      <th>count</th>\n",
       "      <td>413,169.00</td>\n",
       "      <td>413,169.00</td>\n",
       "      <td>413,169.00</td>\n",
       "      <td>413,169.00</td>\n",
       "      <td>413,169.00</td>\n",
       "    </tr>\n",
       "    <tr>\n",
       "      <th>mean</th>\n",
       "      <td>0.04</td>\n",
       "      <td>0.56</td>\n",
       "      <td>7.53</td>\n",
       "      <td>45.32</td>\n",
       "      <td>1,985.15</td>\n",
       "    </tr>\n",
       "    <tr>\n",
       "      <th>std</th>\n",
       "      <td>0.20</td>\n",
       "      <td>0.37</td>\n",
       "      <td>5.76</td>\n",
       "      <td>14.33</td>\n",
       "      <td>4,776.25</td>\n",
       "    </tr>\n",
       "    <tr>\n",
       "      <th>min</th>\n",
       "      <td>0.00</td>\n",
       "      <td>0.00</td>\n",
       "      <td>0.00</td>\n",
       "      <td>18.00</td>\n",
       "      <td>2.00</td>\n",
       "    </tr>\n",
       "    <tr>\n",
       "      <th>25%</th>\n",
       "      <td>0.00</td>\n",
       "      <td>0.20</td>\n",
       "      <td>3.00</td>\n",
       "      <td>34.00</td>\n",
       "      <td>67.00</td>\n",
       "    </tr>\n",
       "    <tr>\n",
       "      <th>50%</th>\n",
       "      <td>0.00</td>\n",
       "      <td>0.54</td>\n",
       "      <td>7.00</td>\n",
       "      <td>44.00</td>\n",
       "      <td>287.00</td>\n",
       "    </tr>\n",
       "    <tr>\n",
       "      <th>75%</th>\n",
       "      <td>0.00</td>\n",
       "      <td>1.00</td>\n",
       "      <td>12.00</td>\n",
       "      <td>54.00</td>\n",
       "      <td>1,410.00</td>\n",
       "    </tr>\n",
       "    <tr>\n",
       "      <th>max</th>\n",
       "      <td>4.00</td>\n",
       "      <td>1.99</td>\n",
       "      <td>100.00</td>\n",
       "      <td>99.00</td>\n",
       "      <td>27,000.00</td>\n",
       "    </tr>\n",
       "  </tbody>\n",
       "</table>\n",
       "</div>"
      ],
      "text/plain": [
       "         ClaimNb   Exposure     CarAge  DriverAge    Density\n",
       "count 413,169.00 413,169.00 413,169.00 413,169.00 413,169.00\n",
       "mean        0.04       0.56       7.53      45.32   1,985.15\n",
       "std         0.20       0.37       5.76      14.33   4,776.25\n",
       "min         0.00       0.00       0.00      18.00       2.00\n",
       "25%         0.00       0.20       3.00      34.00      67.00\n",
       "50%         0.00       0.54       7.00      44.00     287.00\n",
       "75%         0.00       1.00      12.00      54.00   1,410.00\n",
       "max         4.00       1.99     100.00      99.00  27,000.00"
      ]
     },
     "execution_count": 8,
     "metadata": {},
     "output_type": "execute_result"
    }
   ],
   "source": [
    "df.describe()"
   ]
  },
  {
   "cell_type": "markdown",
   "metadata": {},
   "source": [
    "Pierwszą pozytywną obserwacją było dla mnie to, że nie ma brakujących danych, więc nie będzie problemu z uzupełnianiem braków. Nie ma również obserwacji, które w sposób ewidentny są nieprawdziwe. Wiek kierowny od 18 do 99, wydaje się być rozsądny. 99cio latek za kierownicą wydaje się być czymś mało prawdopodobnym ale realnym. Wiek samochodu również akceptuję jako poprawny. Gęstość zaludnienia w Paryżu to 21 288 os./km² (dane z Wikipedii), więc maksymalne zagęszczenie według danych (27k os./km²) również jest w granicach rozsądku.\n",
    "Wydaje się, że dane są dobrej jakości, więc nie będę przeprowadzał procesu czyszczenia danych z outliersów i jak wcześniej wspomniałem nie ma potrzeby uzupełniania wybrakowanych danych."
   ]
  },
  {
   "cell_type": "markdown",
   "metadata": {},
   "source": [
    "#### 2.1.1 Gęstość zaludnienia"
   ]
  },
  {
   "cell_type": "code",
   "execution_count": 17,
   "metadata": {},
   "outputs": [
    {
     "data": {
      "text/plain": [
       "(0, 8000)"
      ]
     },
     "execution_count": 17,
     "metadata": {},
     "output_type": "execute_result"
    },
    {
     "data": {
      "image/png": "[encoded data removed]",
      "text/plain": [
       "<Figure size 864x432 with 1 Axes>"
      ]
     },
     "metadata": {},
     "output_type": "display_data"
    }
   ],
   "source": [
    "df[['Density','ClaimNb']].boxplot(by='ClaimNb', figsize = (12,6)).set_ylim(0,8000)"
   ]
  },
  {
   "cell_type": "markdown",
   "metadata": {},
   "source": [
    "Powyższy wykres wskazuje na istotną pozytywną zależność ilości zgłoszonych incydentów od gęstości zaludnienia. <br>\n",
    "-ilość zgłoszeń: oś X <br>\n",
    "-gęstość zaludnienia: oś Y \n",
    "\n",
    "Rozkład gęstości zaludnienia dla obserwacji bez zgłoszenia lub z jednym zgłoszeniem jest niemal identyczny. Mediana jest około 300, górny kwartyk około 1400, czyli bardzo podobnie do ogólnego rozkładu gęstości zaludnienia. \n",
    "\n",
    "Jednakże obserwacje z dwoma lub więcej zgłoszeniami charakteryzują się znacznie większą gęstością zaludnienia w okolicy. Potwierdza to również poniższa tabelka. Ewidentnie mediana gęstości zaludnienia rośnie wraz ze wzrostem liczby incydentów. Oznacza to, że gęstość zaludnienia będzie bardzo ważną zmienną w modelu."
   ]
  },
  {
   "cell_type": "code",
   "execution_count": 21,
   "metadata": {},
   "outputs": [
    {
     "data": {
      "text/html": [
       "<div>\n",
       "<style scoped>\n",
       "    .dataframe tbody tr th:only-of-type {\n",
       "        vertical-align: middle;\n",
       "    }\n",
       "\n",
       "    .dataframe tbody tr th {\n",
       "        vertical-align: top;\n",
       "    }\n",
       "\n",
       "    .dataframe thead th {\n",
       "        text-align: right;\n",
       "    }\n",
       "</style>\n",
       "<table border=\"1\" class=\"dataframe\">\n",
       "  <thead>\n",
       "    <tr style=\"text-align: right;\">\n",
       "      <th>0.5</th>\n",
       "      <th>Density</th>\n",
       "    </tr>\n",
       "    <tr>\n",
       "      <th>ClaimNb</th>\n",
       "      <th></th>\n",
       "    </tr>\n",
       "  </thead>\n",
       "  <tbody>\n",
       "    <tr>\n",
       "      <th>0</th>\n",
       "      <td>287.00</td>\n",
       "    </tr>\n",
       "    <tr>\n",
       "      <th>1</th>\n",
       "      <td>354.00</td>\n",
       "    </tr>\n",
       "    <tr>\n",
       "      <th>2</th>\n",
       "      <td>640.00</td>\n",
       "    </tr>\n",
       "    <tr>\n",
       "      <th>3</th>\n",
       "      <td>1,268.50</td>\n",
       "    </tr>\n",
       "    <tr>\n",
       "      <th>4</th>\n",
       "      <td>2,983.00</td>\n",
       "    </tr>\n",
       "  </tbody>\n",
       "</table>\n",
       "</div>"
      ],
      "text/plain": [
       "0.5      Density\n",
       "ClaimNb         \n",
       "0         287.00\n",
       "1         354.00\n",
       "2         640.00\n",
       "3       1,268.50\n",
       "4       2,983.00"
      ]
     },
     "execution_count": 21,
     "metadata": {},
     "output_type": "execute_result"
    }
   ],
   "source": [
    "df[['ClaimNb', 'Density']].groupby(by=\"ClaimNb\").quantile(0.5)"
   ]
  },
  {
   "cell_type": "code",
   "execution_count": 87,
   "metadata": {},
   "outputs": [
    {
     "data": {
      "image/png": "[encoded data removed]",
      "text/plain": [
       "<Figure size 864x432 with 1 Axes>"
      ]
     },
     "metadata": {},
     "output_type": "display_data"
    }
   ],
   "source": [
    "group_dens = df.groupby(by='ClaimNb')[\"Density\"].mean()\n",
    "data2 = pd.DataFrame(group_dens)\n",
    "data2['ClaimNb'] = data2.index.values\n",
    "plt.bar(x = 'ClaimNb',height = \"Density\", data=data2)\n",
    "plt.rcParams[\"figure.figsize\"] = [12,6]\n",
    "plt.xlabel(\"Liczba zgłoszeń\")\n",
    "plt.ylabel(\"Średnia gęstość zaludnienia\")\n",
    "plt.show()"
   ]
  },
  {
   "cell_type": "markdown",
   "metadata": {},
   "source": [
    "#### 2.1.2 Wiek samochodu"
   ]
  },
  {
   "cell_type": "code",
   "execution_count": 23,
   "metadata": {},
   "outputs": [
    {
     "data": {
      "text/plain": [
       "(0, 26)"
      ]
     },
     "execution_count": 23,
     "metadata": {},
     "output_type": "execute_result"
    },
    {
     "data": {
      "image/png": "[encoded data removed]",
      "text/plain": [
       "<Figure size 864x432 with 1 Axes>"
      ]
     },
     "metadata": {},
     "output_type": "display_data"
    }
   ],
   "source": [
    "df[['CarAge','ClaimNb']].boxplot(by='ClaimNb', figsize = (12,6)).set_ylim(0,26) "
   ]
  },
  {
   "cell_type": "markdown",
   "metadata": {},
   "source": [
    "Wpływ wieku samochodu na liczbę zgłoszeń nie jest tak oczywisty jak wpływ gęstości zaludnienia. Widać jednak, że samochody z większą liczbą zgłoszeń są przeważnie młodsze. Na tym etapie nie jestem w pełni przekonany, czy zależność jest istotna statystycznie. Rozkłady liczby zgłoszeń od zera do trzech są podobne. Wyróżnia się rozkład dla 4 zgłoszeń. Gdy będę tworzył splajny, na pewno zwrócę uwagę na to, czy przedziały zawierające samochody poniżej 5 lat będą istotne statystycznie."
   ]
  },
  {
   "cell_type": "markdown",
   "metadata": {},
   "source": [
    "#### 2.1.3 Wiek kierowcy"
   ]
  },
  {
   "cell_type": "code",
   "execution_count": 27,
   "metadata": {},
   "outputs": [
    {
     "data": {
      "text/plain": [
       "(16, 90)"
      ]
     },
     "execution_count": 27,
     "metadata": {},
     "output_type": "execute_result"
    },
    {
     "data": {
      "image/png": "[encoded data removed]",
      "text/plain": [
       "<Figure size 864x432 with 1 Axes>"
      ]
     },
     "metadata": {},
     "output_type": "display_data"
    }
   ],
   "source": [
    "df[['DriverAge','ClaimNb']].boxplot(by='ClaimNb', figsize = (12,6)).set_ylim(16,90)"
   ]
  },
  {
   "cell_type": "markdown",
   "metadata": {},
   "source": [
    "Wiek kierowcy będzie zdecydowanie ważną zmienną. Kierowny w przedziale od 25 do 33 lat, mogą charakteryzować się większą liczbą zgłoszeń. Ciekawe jest to, że dla trzech i czterech zgłoszeń, mediana (i górny kwartyl) jest znacznie niższa, w przeciwieństwie do dolnego kwartyla, który się podniósł. Może to świadczyć, że najmłodsi kierowcy (18-23), zgłaszają mniej incydentów. Może dlatego, że mniej jeżdżą samochodem? W każdym razie wygląda na to, że wiek kierowcy nie wpływa na ilość zgłoszeń liniowo, więc w tym przypadku splajny się bardzo przydadzą."
   ]
  },
  {
   "cell_type": "markdown",
   "metadata": {},
   "source": [
    "### 2.1.4 Korelacje zmiennych ilościowych"
   ]
  },
  {
   "cell_type": "code",
   "execution_count": 98,
   "metadata": {},
   "outputs": [
    {
     "data": {
      "text/html": [
       "<div>\n",
       "<style scoped>\n",
       "    .dataframe tbody tr th:only-of-type {\n",
       "        vertical-align: middle;\n",
       "    }\n",
       "\n",
       "    .dataframe tbody tr th {\n",
       "        vertical-align: top;\n",
       "    }\n",
       "\n",
       "    .dataframe thead th {\n",
       "        text-align: right;\n",
       "    }\n",
       "</style>\n",
       "<table border=\"1\" class=\"dataframe\">\n",
       "  <thead>\n",
       "    <tr style=\"text-align: right;\">\n",
       "      <th></th>\n",
       "      <th>Exposure</th>\n",
       "      <th>CarAge</th>\n",
       "      <th>DriverAge</th>\n",
       "      <th>Density</th>\n",
       "    </tr>\n",
       "  </thead>\n",
       "  <tbody>\n",
       "    <tr>\n",
       "      <th>Exposure</th>\n",
       "      <td>1.00</td>\n",
       "      <td>0.14</td>\n",
       "      <td>0.19</td>\n",
       "      <td>-0.11</td>\n",
       "    </tr>\n",
       "    <tr>\n",
       "      <th>CarAge</th>\n",
       "      <td>0.14</td>\n",
       "      <td>1.00</td>\n",
       "      <td>-0.05</td>\n",
       "      <td>-0.14</td>\n",
       "    </tr>\n",
       "    <tr>\n",
       "      <th>DriverAge</th>\n",
       "      <td>0.19</td>\n",
       "      <td>-0.05</td>\n",
       "      <td>1.00</td>\n",
       "      <td>-0.00</td>\n",
       "    </tr>\n",
       "    <tr>\n",
       "      <th>Density</th>\n",
       "      <td>-0.11</td>\n",
       "      <td>-0.14</td>\n",
       "      <td>-0.00</td>\n",
       "      <td>1.00</td>\n",
       "    </tr>\n",
       "  </tbody>\n",
       "</table>\n",
       "</div>"
      ],
      "text/plain": [
       "           Exposure  CarAge  DriverAge  Density\n",
       "Exposure       1.00    0.14       0.19    -0.11\n",
       "CarAge         0.14    1.00      -0.05    -0.14\n",
       "DriverAge      0.19   -0.05       1.00    -0.00\n",
       "Density       -0.11   -0.14      -0.00     1.00"
      ]
     },
     "execution_count": 98,
     "metadata": {},
     "output_type": "execute_result"
    }
   ],
   "source": [
    "corr = df.drop('ClaimNb', axis=1).corr()\n",
    "corr"
   ]
  },
  {
   "cell_type": "code",
   "execution_count": 99,
   "metadata": {},
   "outputs": [
    {
     "data": {
      "text/plain": [
       "<matplotlib.axes._subplots.AxesSubplot at 0x265666166d8>"
      ]
     },
     "execution_count": 99,
     "metadata": {},
     "output_type": "execute_result"
    },
    {
     "data": {
      "image/png": "[encoded data removed]",
      "text/plain": [
       "<Figure size 864x432 with 2 Axes>"
      ]
     },
     "metadata": {},
     "output_type": "display_data"
    }
   ],
   "source": [
    "sns.heatmap(corr, xticklabels=corr.columns, yticklabels=corr.columns)"
   ]
  },
  {
   "cell_type": "markdown",
   "metadata": {},
   "source": [
    "Korelacje zmiennych ilościowych są bardzo niewielkie. Oznacza to, że komputer nie powinien mieć problemu z odwracaniem macierzy. Najsilniejsza jest korelacja \"Exposure\" z \"DriverAge\" i \"CarAge\". Może starsi kierowcy preferują dłuższe okresy polisy? W każdym razie nie będzie to miało żadnego wpływu na model, gdyż \"Exposure\" będzie wykorzystana jako waga obserwacji."
   ]
  },
  {
   "cell_type": "markdown",
   "metadata": {},
   "source": [
    "### 2.2 zmienne nominalne"
   ]
  },
  {
   "cell_type": "markdown",
   "metadata": {},
   "source": [
    "#### 2.2.1 moc"
   ]
  },
  {
   "cell_type": "code",
   "execution_count": 64,
   "metadata": {},
   "outputs": [
    {
     "data": {
      "text/html": [
       "<div>\n",
       "<style scoped>\n",
       "    .dataframe tbody tr th:only-of-type {\n",
       "        vertical-align: middle;\n",
       "    }\n",
       "\n",
       "    .dataframe tbody tr th {\n",
       "        vertical-align: top;\n",
       "    }\n",
       "\n",
       "    .dataframe thead th {\n",
       "        text-align: right;\n",
       "    }\n",
       "</style>\n",
       "<table border=\"1\" class=\"dataframe\">\n",
       "  <thead>\n",
       "    <tr style=\"text-align: right;\">\n",
       "      <th></th>\n",
       "      <th>ClaimNb</th>\n",
       "    </tr>\n",
       "    <tr>\n",
       "      <th>Power</th>\n",
       "      <th></th>\n",
       "    </tr>\n",
       "  </thead>\n",
       "  <tbody>\n",
       "    <tr>\n",
       "      <th>l</th>\n",
       "      <td>0.0346</td>\n",
       "    </tr>\n",
       "    <tr>\n",
       "      <th>d</th>\n",
       "      <td>0.0347</td>\n",
       "    </tr>\n",
       "    <tr>\n",
       "      <th>o</th>\n",
       "      <td>0.0358</td>\n",
       "    </tr>\n",
       "    <tr>\n",
       "      <th>h</th>\n",
       "      <td>0.0375</td>\n",
       "    </tr>\n",
       "    <tr>\n",
       "      <th>g</th>\n",
       "      <td>0.0380</td>\n",
       "    </tr>\n",
       "    <tr>\n",
       "      <th>j</th>\n",
       "      <td>0.0394</td>\n",
       "    </tr>\n",
       "    <tr>\n",
       "      <th>k</th>\n",
       "      <td>0.0398</td>\n",
       "    </tr>\n",
       "    <tr>\n",
       "      <th>i</th>\n",
       "      <td>0.0410</td>\n",
       "    </tr>\n",
       "    <tr>\n",
       "      <th>m</th>\n",
       "      <td>0.0415</td>\n",
       "    </tr>\n",
       "    <tr>\n",
       "      <th>e</th>\n",
       "      <td>0.0416</td>\n",
       "    </tr>\n",
       "    <tr>\n",
       "      <th>f</th>\n",
       "      <td>0.0418</td>\n",
       "    </tr>\n",
       "    <tr>\n",
       "      <th>n</th>\n",
       "      <td>0.0428</td>\n",
       "    </tr>\n",
       "  </tbody>\n",
       "</table>\n",
       "</div>"
      ],
      "text/plain": [
       "       ClaimNb\n",
       "Power         \n",
       "l       0.0346\n",
       "d       0.0347\n",
       "o       0.0358\n",
       "h       0.0375\n",
       "g       0.0380\n",
       "j       0.0394\n",
       "k       0.0398\n",
       "i       0.0410\n",
       "m       0.0415\n",
       "e       0.0416\n",
       "f       0.0418\n",
       "n       0.0428"
      ]
     },
     "execution_count": 64,
     "metadata": {},
     "output_type": "execute_result"
    }
   ],
   "source": [
    "pd.options.display.float_format = '{:,.4f}'.format\n",
    "pd.DataFrame(df.groupby(by='Power')['ClaimNb'].mean().sort_values())"
   ]
  },
  {
   "cell_type": "markdown",
   "metadata": {},
   "source": [
    "Różnice w średniej liczbie zgłoszeń samochodów o różnej mocy wydają się być trudne do zauważenia. Dodatkowo nie wiem, jak należałoby uporządkowac kategorie. Która kategoria ma największą moc, która najmniejszą? Prawdopodobnie moc silnika nie będzie znaczącą zmienną w moim modelu. Może za wyjątkiem skrajnych kategorii (l,d oraz f,n). Dziwne jest to, że litery \"l\" i \"n\" w alfabecie są oddalone od siebie o 2 miejsca, co sugeruje, że nie ma dużej różnicy między wartościami, a te dwie kategorie są na dwóch krańcach skali. "
   ]
  },
  {
   "cell_type": "markdown",
   "metadata": {},
   "source": [
    "#### 2.2.2 Marka samochodu"
   ]
  },
  {
   "cell_type": "code",
   "execution_count": 65,
   "metadata": {},
   "outputs": [
    {
     "data": {
      "text/html": [
       "<div>\n",
       "<style scoped>\n",
       "    .dataframe tbody tr th:only-of-type {\n",
       "        vertical-align: middle;\n",
       "    }\n",
       "\n",
       "    .dataframe tbody tr th {\n",
       "        vertical-align: top;\n",
       "    }\n",
       "\n",
       "    .dataframe thead th {\n",
       "        text-align: right;\n",
       "    }\n",
       "</style>\n",
       "<table border=\"1\" class=\"dataframe\">\n",
       "  <thead>\n",
       "    <tr style=\"text-align: right;\">\n",
       "      <th></th>\n",
       "      <th>ClaimNb</th>\n",
       "    </tr>\n",
       "    <tr>\n",
       "      <th>Brand</th>\n",
       "      <th></th>\n",
       "    </tr>\n",
       "  </thead>\n",
       "  <tbody>\n",
       "    <tr>\n",
       "      <th>Japanese (except Nissan) or Korean</th>\n",
       "      <td>0.0263</td>\n",
       "    </tr>\n",
       "    <tr>\n",
       "      <th>Renault, Nissan or Citroen</th>\n",
       "      <td>0.0410</td>\n",
       "    </tr>\n",
       "    <tr>\n",
       "      <th>other</th>\n",
       "      <td>0.0419</td>\n",
       "    </tr>\n",
       "    <tr>\n",
       "      <th>Fiat</th>\n",
       "      <td>0.0427</td>\n",
       "    </tr>\n",
       "    <tr>\n",
       "      <th>Mercedes, Chrysler or BMW</th>\n",
       "      <td>0.0432</td>\n",
       "    </tr>\n",
       "    <tr>\n",
       "      <th>Volkswagen, Audi, Skoda or Seat</th>\n",
       "      <td>0.0450</td>\n",
       "    </tr>\n",
       "    <tr>\n",
       "      <th>Opel, General Motors or Ford</th>\n",
       "      <td>0.0463</td>\n",
       "    </tr>\n",
       "  </tbody>\n",
       "</table>\n",
       "</div>"
      ],
      "text/plain": [
       "                                    ClaimNb\n",
       "Brand                                      \n",
       "Japanese (except Nissan) or Korean   0.0263\n",
       "Renault, Nissan or Citroen           0.0410\n",
       "other                                0.0419\n",
       "Fiat                                 0.0427\n",
       "Mercedes, Chrysler or BMW            0.0432\n",
       "Volkswagen, Audi, Skoda or Seat      0.0450\n",
       "Opel, General Motors or Ford         0.0463"
      ]
     },
     "execution_count": 65,
     "metadata": {},
     "output_type": "execute_result"
    }
   ],
   "source": [
    "pd.DataFrame(df.groupby(by=\"Brand\")['ClaimNb'].mean().sort_values())"
   ]
  },
  {
   "cell_type": "markdown",
   "metadata": {},
   "source": [
    "Marka samochodu lepiej różnicuje liczbę zgłoszeń niż moc. Szczególnie warte uwagi są samochody japońskie i koreańskie, które zdecydowanie się wyróżniają niską liczbą zgłoszeń. Efekt niskiej awaryjności (?)."
   ]
  },
  {
   "cell_type": "code",
   "execution_count": 248,
   "metadata": {},
   "outputs": [],
   "source": [
    "# Na tym etapie mogę zmienić etykiety marek samochodów, żeby zgadzały się z tym, co jest w  i zajmowały mniej miejsca.\n",
    "df.loc[df.Brand=='Renault, Nissan or Citroen', 'Brand'] = 'A'\n",
    "df.loc[df.Brand=='Volkswagen, Audi, Skoda or Seat', 'Brand'] = 'B'\n",
    "df.loc[df.Brand=='Opel, General Motors or Ford', 'Brand'] = 'C'\n",
    "df.loc[df.Brand=='Fiat', 'Brand'] = 'D'\n",
    "df.loc[df.Brand=='Mercedes, Chrysler or BMW', 'Brand'] = 'E'\n",
    "df.loc[df.Brand=='Japanese (except Nissan) or Korean', 'Brand'] = 'F'\n",
    "df.loc[df.Brand=='other', 'Brand'] = 'G'"
   ]
  },
  {
   "cell_type": "markdown",
   "metadata": {},
   "source": [
    "#### 2.2.3 Paliwo"
   ]
  },
  {
   "cell_type": "code",
   "execution_count": 66,
   "metadata": {},
   "outputs": [
    {
     "data": {
      "text/html": [
       "<div>\n",
       "<style scoped>\n",
       "    .dataframe tbody tr th:only-of-type {\n",
       "        vertical-align: middle;\n",
       "    }\n",
       "\n",
       "    .dataframe tbody tr th {\n",
       "        vertical-align: top;\n",
       "    }\n",
       "\n",
       "    .dataframe thead th {\n",
       "        text-align: right;\n",
       "    }\n",
       "</style>\n",
       "<table border=\"1\" class=\"dataframe\">\n",
       "  <thead>\n",
       "    <tr style=\"text-align: right;\">\n",
       "      <th></th>\n",
       "      <th>ClaimNb</th>\n",
       "      <th>CarAge</th>\n",
       "    </tr>\n",
       "    <tr>\n",
       "      <th>Gas</th>\n",
       "      <th></th>\n",
       "      <th></th>\n",
       "    </tr>\n",
       "  </thead>\n",
       "  <tbody>\n",
       "    <tr>\n",
       "      <th>Regular</th>\n",
       "      <td>0.0373</td>\n",
       "      <td>8.3103</td>\n",
       "    </tr>\n",
       "    <tr>\n",
       "      <th>Diesel</th>\n",
       "      <td>0.0410</td>\n",
       "      <td>6.7497</td>\n",
       "    </tr>\n",
       "  </tbody>\n",
       "</table>\n",
       "</div>"
      ],
      "text/plain": [
       "         ClaimNb  CarAge\n",
       "Gas                     \n",
       "Regular   0.0373  8.3103\n",
       "Diesel    0.0410  6.7497"
      ]
     },
     "execution_count": 66,
     "metadata": {},
     "output_type": "execute_result"
    }
   ],
   "source": [
    "df.groupby(by=\"Gas\")['ClaimNb', 'CarAge'].mean().sort_values(by=\"ClaimNb\")"
   ]
  },
  {
   "cell_type": "markdown",
   "metadata": {},
   "source": [
    "Paliwo samochodu całkiem dobrze różnicuje liczbę zgłoszeń. Diesel zwiększa ryzyko incydentu. Zastanawiałem się, czy będzie autokorelacja rodzaju paliwa z wiekiem samochodu, gdyż wydaje mi się, że diesel jest bardziej popularny wśród starszych samochodów. Dane jednak wskazują, że średnia wieku Diesela to 6.7 a normalnego paliwa 8.3, co raczej przeczy mojej hipotezie. "
   ]
  },
  {
   "cell_type": "markdown",
   "metadata": {},
   "source": [
    "#### 2.2.4 Region"
   ]
  },
  {
   "cell_type": "code",
   "execution_count": 67,
   "metadata": {},
   "outputs": [
    {
     "data": {
      "text/html": [
       "<div>\n",
       "<style scoped>\n",
       "    .dataframe tbody tr th:only-of-type {\n",
       "        vertical-align: middle;\n",
       "    }\n",
       "\n",
       "    .dataframe tbody tr th {\n",
       "        vertical-align: top;\n",
       "    }\n",
       "\n",
       "    .dataframe thead th {\n",
       "        text-align: right;\n",
       "    }\n",
       "</style>\n",
       "<table border=\"1\" class=\"dataframe\">\n",
       "  <thead>\n",
       "    <tr style=\"text-align: right;\">\n",
       "      <th></th>\n",
       "      <th>ClaimNb</th>\n",
       "      <th>Density</th>\n",
       "    </tr>\n",
       "    <tr>\n",
       "      <th>Region</th>\n",
       "      <th></th>\n",
       "      <th></th>\n",
       "    </tr>\n",
       "  </thead>\n",
       "  <tbody>\n",
       "    <tr>\n",
       "      <th>R23</th>\n",
       "      <td>0.0250</td>\n",
       "      <td>1,629.0314</td>\n",
       "    </tr>\n",
       "    <tr>\n",
       "      <th>R72</th>\n",
       "      <td>0.0337</td>\n",
       "      <td>1,201.9765</td>\n",
       "    </tr>\n",
       "    <tr>\n",
       "      <th>R31</th>\n",
       "      <td>0.0346</td>\n",
       "      <td>1,589.2316</td>\n",
       "    </tr>\n",
       "    <tr>\n",
       "      <th>R11</th>\n",
       "      <td>0.0371</td>\n",
       "      <td>8,085.6901</td>\n",
       "    </tr>\n",
       "    <tr>\n",
       "      <th>R24</th>\n",
       "      <td>0.0403</td>\n",
       "      <td>461.4377</td>\n",
       "    </tr>\n",
       "    <tr>\n",
       "      <th>R52</th>\n",
       "      <td>0.0407</td>\n",
       "      <td>1,066.5266</td>\n",
       "    </tr>\n",
       "    <tr>\n",
       "      <th>R25</th>\n",
       "      <td>0.0415</td>\n",
       "      <td>756.0397</td>\n",
       "    </tr>\n",
       "    <tr>\n",
       "      <th>R54</th>\n",
       "      <td>0.0420</td>\n",
       "      <td>475.5764</td>\n",
       "    </tr>\n",
       "    <tr>\n",
       "      <th>R74</th>\n",
       "      <td>0.0431</td>\n",
       "      <td>294.3199</td>\n",
       "    </tr>\n",
       "    <tr>\n",
       "      <th>R53</th>\n",
       "      <td>0.0444</td>\n",
       "      <td>628.9701</td>\n",
       "    </tr>\n",
       "  </tbody>\n",
       "</table>\n",
       "</div>"
      ],
      "text/plain": [
       "        ClaimNb    Density\n",
       "Region                    \n",
       "R23      0.0250 1,629.0314\n",
       "R72      0.0337 1,201.9765\n",
       "R31      0.0346 1,589.2316\n",
       "R11      0.0371 8,085.6901\n",
       "R24      0.0403   461.4377\n",
       "R52      0.0407 1,066.5266\n",
       "R25      0.0415   756.0397\n",
       "R54      0.0420   475.5764\n",
       "R74      0.0431   294.3199\n",
       "R53      0.0444   628.9701"
      ]
     },
     "execution_count": 67,
     "metadata": {},
     "output_type": "execute_result"
    }
   ],
   "source": [
    "pd.DataFrame(df.groupby(by='Region')['ClaimNb', 'Density'].mean().sort_values(by='ClaimNb'))"
   ]
  },
  {
   "cell_type": "markdown",
   "metadata": {},
   "source": [
    "Region wydaje się wnosić bardzo dużo informacji do badania. Dobrze różnicuje - np. region 23 zdecydowanie się wyróżnia niską liczbą zgłoszeń. Domyślałem się, że będzie silna zależność między regionem a gęstością zaludnienia, co mogłoby przeszkodzić w dobrym wyznaczniu współczynnika zmiennej \"Density\". Powyższa tabela zaskakuje jednak tym, że region 23 z bardzo małą średnią liczbą zgłoszeń ma ponadprzeciętną gęstość zaludnienia. Dodatkowo, region 74 ma drugą najwyższą średnią liczbę zgłoszeń, będąc jednocześnie najrzadziej zaludnionym terytorium! Jest to sprzeczne z tym, co wykazywał boxplot z gęstością zaludnienia, że im gęściej zaludniona okolica, tym więcej wypadków. W związku z tym, poszczególne regiony mogą być bardzo istotne w moim modelu. \n",
    "\n",
    "Szczególnie: R23, R11, R74, R53, R54 powinny być istotne."
   ]
  },
  {
   "cell_type": "code",
   "execution_count": 68,
   "metadata": {},
   "outputs": [],
   "source": [
    "pd.options.display.float_format = '{:,.2f}'.format"
   ]
  },
  {
   "cell_type": "markdown",
   "metadata": {},
   "source": [
    "## 3. Podział danych na zbiór treningowy i testowy"
   ]
  },
  {
   "cell_type": "code",
   "execution_count": 249,
   "metadata": {},
   "outputs": [],
   "source": [
    "# Zgodnie z instrukcją z zadania indeksy kończące się na 8 i 9, będą zbiorem testowym a reszta zbiorem treningowym\n",
    "train_df = df.loc[(df.index.map(lambda x: str(x)[-1:])!='8') & (df.index.map(lambda x: str(x)[-1:])!='9'),]\n",
    "test_df = df.loc[(df.index.map(lambda x: str(x)[-1:])=='8') | (df.index.map(lambda x: str(x)[-1:])=='9'),]\n",
    "del df\n",
    "\n",
    "# Utworzenie zmiennch binarnych ze zmiennch nominalnych\n",
    "train_df = pd.get_dummies(train_df)\n",
    "test_df = pd.get_dummies(test_df)"
   ]
  },
  {
   "cell_type": "markdown",
   "metadata": {},
   "source": [
    "# 4. Zwykły model regresji Poissona (bez splajnów)"
   ]
  },
  {
   "cell_type": "markdown",
   "metadata": {},
   "source": [
    "### 4.1 regresja Poissona ze wszystkimi zmiennymi"
   ]
  },
  {
   "cell_type": "markdown",
   "metadata": {},
   "source": [
    "Najpierw postanowiłem wyznaczyć najprostrzy model regresji korzystając z rozkładu Poissona."
   ]
  },
  {
   "cell_type": "code",
   "execution_count": 250,
   "metadata": {},
   "outputs": [
    {
     "data": {
      "text/plain": [
       "'ClaimNb ~ CarAge+DriverAge+Density+Power_d+Power_e+Power_f+Power_g+Power_h+Power_i+Power_j+Power_k+Power_l+Power_m+Power_n+Power_o+Brand_A+Brand_B+Brand_C+Brand_D+Brand_E+Brand_F+Brand_G+Gas_Diesel+Gas_Regular+Region_R11+Region_R23+Region_R24+Region_R25+Region_R31+Region_R52+Region_R53+Region_R54+Region_R72+Region_R74'"
      ]
     },
     "execution_count": 250,
     "metadata": {},
     "output_type": "execute_result"
    }
   ],
   "source": [
    "formula = \"ClaimNb ~ \"\n",
    "for col in train_df.columns:\n",
    "    if col != 'ClaimNb' and col != 'Exposure' and col != 'PolicyID':\n",
    "        if formula != \"ClaimNb ~ \":\n",
    "            formula = formula + \"+\" + col\n",
    "        else:\n",
    "            formula = \"ClaimNb ~ \" + str(col)\n",
    "formula"
   ]
  },
  {
   "cell_type": "code",
   "execution_count": 251,
   "metadata": {
    "scrolled": true
   },
   "outputs": [
    {
     "data": {
      "text/html": [
       "<table class=\"simpletable\">\n",
       "<caption>Generalized Linear Model Regression Results</caption>\n",
       "<tr>\n",
       "  <th>Dep. Variable:</th>       <td>ClaimNb</td>     <th>  No. Observations:  </th>  <td>330535</td>  \n",
       "</tr>\n",
       "<tr>\n",
       "  <th>Model:</th>                 <td>GLM</td>       <th>  Df Residuals:      </th>  <td>185428</td>  \n",
       "</tr>\n",
       "<tr>\n",
       "  <th>Model Family:</th>        <td>Poisson</td>     <th>  Df Model:          </th>  <td>    30</td>  \n",
       "</tr>\n",
       "<tr>\n",
       "  <th>Link Function:</th>         <td>log</td>       <th>  Scale:             </th> <td>  1.0000</td> \n",
       "</tr>\n",
       "<tr>\n",
       "  <th>Method:</th>               <td>IRLS</td>       <th>  Log-Likelihood:    </th> <td> -36894.</td> \n",
       "</tr>\n",
       "<tr>\n",
       "  <th>Date:</th>           <td>Mon, 04 Feb 2019</td> <th>  Deviance:          </th> <td>  56025.</td> \n",
       "</tr>\n",
       "<tr>\n",
       "  <th>Time:</th>               <td>17:50:36</td>     <th>  Pearson chi2:      </th> <td>1.94e+05</td> \n",
       "</tr>\n",
       "<tr>\n",
       "  <th>No. Iterations:</th>         <td>7</td>        <th>  Covariance Type:   </th> <td>nonrobust</td>\n",
       "</tr>\n",
       "</table>\n",
       "<table class=\"simpletable\">\n",
       "<tr>\n",
       "       <td></td>          <th>coef</th>     <th>std err</th>      <th>z</th>      <th>P>|z|</th>  <th>[0.025</th>    <th>0.975]</th>  \n",
       "</tr>\n",
       "<tr>\n",
       "  <th>Intercept</th>   <td>   -1.4324</td> <td>    0.028</td> <td>  -51.999</td> <td> 0.000</td> <td>   -1.486</td> <td>   -1.378</td>\n",
       "</tr>\n",
       "<tr>\n",
       "  <th>CarAge</th>      <td>   -0.0180</td> <td>    0.002</td> <td>   -8.511</td> <td> 0.000</td> <td>   -0.022</td> <td>   -0.014</td>\n",
       "</tr>\n",
       "<tr>\n",
       "  <th>DriverAge</th>   <td>   -0.0033</td> <td>    0.001</td> <td>   -4.470</td> <td> 0.000</td> <td>   -0.005</td> <td>   -0.002</td>\n",
       "</tr>\n",
       "<tr>\n",
       "  <th>Density</th>     <td> 1.388e-05</td> <td> 2.67e-06</td> <td>    5.206</td> <td> 0.000</td> <td> 8.65e-06</td> <td> 1.91e-05</td>\n",
       "</tr>\n",
       "<tr>\n",
       "  <th>Power_d</th>     <td>   -0.2828</td> <td>    0.039</td> <td>   -7.301</td> <td> 0.000</td> <td>   -0.359</td> <td>   -0.207</td>\n",
       "</tr>\n",
       "<tr>\n",
       "  <th>Power_e</th>     <td>   -0.1903</td> <td>    0.036</td> <td>   -5.224</td> <td> 0.000</td> <td>   -0.262</td> <td>   -0.119</td>\n",
       "</tr>\n",
       "<tr>\n",
       "  <th>Power_f</th>     <td>   -0.1820</td> <td>    0.036</td> <td>   -5.108</td> <td> 0.000</td> <td>   -0.252</td> <td>   -0.112</td>\n",
       "</tr>\n",
       "<tr>\n",
       "  <th>Power_g</th>     <td>   -0.2165</td> <td>    0.035</td> <td>   -6.195</td> <td> 0.000</td> <td>   -0.285</td> <td>   -0.148</td>\n",
       "</tr>\n",
       "<tr>\n",
       "  <th>Power_h</th>     <td>   -0.1827</td> <td>    0.048</td> <td>   -3.791</td> <td> 0.000</td> <td>   -0.277</td> <td>   -0.088</td>\n",
       "</tr>\n",
       "<tr>\n",
       "  <th>Power_i</th>     <td>   -0.0536</td> <td>    0.053</td> <td>   -1.015</td> <td> 0.310</td> <td>   -0.157</td> <td>    0.050</td>\n",
       "</tr>\n",
       "<tr>\n",
       "  <th>Power_j</th>     <td>   -0.0853</td> <td>    0.054</td> <td>   -1.575</td> <td> 0.115</td> <td>   -0.191</td> <td>    0.021</td>\n",
       "</tr>\n",
       "<tr>\n",
       "  <th>Power_k</th>     <td>   -0.0687</td> <td>    0.070</td> <td>   -0.980</td> <td> 0.327</td> <td>   -0.206</td> <td>    0.069</td>\n",
       "</tr>\n",
       "<tr>\n",
       "  <th>Power_l</th>     <td>   -0.1137</td> <td>    0.102</td> <td>   -1.117</td> <td> 0.264</td> <td>   -0.313</td> <td>    0.086</td>\n",
       "</tr>\n",
       "<tr>\n",
       "  <th>Power_m</th>     <td>    0.0378</td> <td>    0.134</td> <td>    0.282</td> <td> 0.778</td> <td>   -0.224</td> <td>    0.300</td>\n",
       "</tr>\n",
       "<tr>\n",
       "  <th>Power_n</th>     <td>    0.0753</td> <td>    0.161</td> <td>    0.467</td> <td> 0.641</td> <td>   -0.241</td> <td>    0.391</td>\n",
       "</tr>\n",
       "<tr>\n",
       "  <th>Power_o</th>     <td>   -0.1699</td> <td>    0.185</td> <td>   -0.919</td> <td> 0.358</td> <td>   -0.532</td> <td>    0.192</td>\n",
       "</tr>\n",
       "<tr>\n",
       "  <th>Brand_A</th>     <td>   -0.1909</td> <td>    0.021</td> <td>   -9.053</td> <td> 0.000</td> <td>   -0.232</td> <td>   -0.150</td>\n",
       "</tr>\n",
       "<tr>\n",
       "  <th>Brand_B</th>     <td>   -0.1269</td> <td>    0.034</td> <td>   -3.730</td> <td> 0.000</td> <td>   -0.194</td> <td>   -0.060</td>\n",
       "</tr>\n",
       "<tr>\n",
       "  <th>Brand_C</th>     <td>   -0.0660</td> <td>    0.032</td> <td>   -2.069</td> <td> 0.039</td> <td>   -0.129</td> <td>   -0.003</td>\n",
       "</tr>\n",
       "<tr>\n",
       "  <th>Brand_D</th>     <td>   -0.1132</td> <td>    0.045</td> <td>   -2.502</td> <td> 0.012</td> <td>   -0.202</td> <td>   -0.025</td>\n",
       "</tr>\n",
       "<tr>\n",
       "  <th>Brand_E</th>     <td>   -0.1743</td> <td>    0.045</td> <td>   -3.877</td> <td> 0.000</td> <td>   -0.262</td> <td>   -0.086</td>\n",
       "</tr>\n",
       "<tr>\n",
       "  <th>Brand_F</th>     <td>   -0.6136</td> <td>    0.034</td> <td>  -17.965</td> <td> 0.000</td> <td>   -0.681</td> <td>   -0.547</td>\n",
       "</tr>\n",
       "<tr>\n",
       "  <th>Brand_G</th>     <td>   -0.1474</td> <td>    0.057</td> <td>   -2.602</td> <td> 0.009</td> <td>   -0.258</td> <td>   -0.036</td>\n",
       "</tr>\n",
       "<tr>\n",
       "  <th>Gas_Diesel</th>  <td>   -0.6697</td> <td>    0.017</td> <td>  -39.373</td> <td> 0.000</td> <td>   -0.703</td> <td>   -0.636</td>\n",
       "</tr>\n",
       "<tr>\n",
       "  <th>Gas_Regular</th> <td>   -0.7627</td> <td>    0.019</td> <td>  -40.695</td> <td> 0.000</td> <td>   -0.799</td> <td>   -0.726</td>\n",
       "</tr>\n",
       "<tr>\n",
       "  <th>Region_R11</th>  <td>   -0.0886</td> <td>    0.037</td> <td>   -2.366</td> <td> 0.018</td> <td>   -0.162</td> <td>   -0.015</td>\n",
       "</tr>\n",
       "<tr>\n",
       "  <th>Region_R23</th>  <td>   -0.3390</td> <td>    0.089</td> <td>   -3.796</td> <td> 0.000</td> <td>   -0.514</td> <td>   -0.164</td>\n",
       "</tr>\n",
       "<tr>\n",
       "  <th>Region_R24</th>  <td>   -0.2379</td> <td>    0.023</td> <td>  -10.219</td> <td> 0.000</td> <td>   -0.284</td> <td>   -0.192</td>\n",
       "</tr>\n",
       "<tr>\n",
       "  <th>Region_R25</th>  <td>   -0.1335</td> <td>    0.057</td> <td>   -2.343</td> <td> 0.019</td> <td>   -0.245</td> <td>   -0.022</td>\n",
       "</tr>\n",
       "<tr>\n",
       "  <th>Region_R31</th>  <td>   -0.1086</td> <td>    0.044</td> <td>   -2.441</td> <td> 0.015</td> <td>   -0.196</td> <td>   -0.021</td>\n",
       "</tr>\n",
       "<tr>\n",
       "  <th>Region_R52</th>  <td>   -0.1284</td> <td>    0.034</td> <td>   -3.724</td> <td> 0.000</td> <td>   -0.196</td> <td>   -0.061</td>\n",
       "</tr>\n",
       "<tr>\n",
       "  <th>Region_R53</th>  <td>   -0.1499</td> <td>    0.032</td> <td>   -4.697</td> <td> 0.000</td> <td>   -0.212</td> <td>   -0.087</td>\n",
       "</tr>\n",
       "<tr>\n",
       "  <th>Region_R54</th>  <td>   -0.1482</td> <td>    0.046</td> <td>   -3.221</td> <td> 0.001</td> <td>   -0.238</td> <td>   -0.058</td>\n",
       "</tr>\n",
       "<tr>\n",
       "  <th>Region_R72</th>  <td>   -0.1692</td> <td>    0.042</td> <td>   -4.028</td> <td> 0.000</td> <td>   -0.251</td> <td>   -0.087</td>\n",
       "</tr>\n",
       "<tr>\n",
       "  <th>Region_R74</th>  <td>    0.0709</td> <td>    0.086</td> <td>    0.823</td> <td> 0.411</td> <td>   -0.098</td> <td>    0.240</td>\n",
       "</tr>\n",
       "</table>"
      ],
      "text/plain": [
       "<class 'statsmodels.iolib.summary.Summary'>\n",
       "\"\"\"\n",
       "                 Generalized Linear Model Regression Results                  \n",
       "==============================================================================\n",
       "Dep. Variable:                ClaimNb   No. Observations:               330535\n",
       "Model:                            GLM   Df Residuals:                   185428\n",
       "Model Family:                 Poisson   Df Model:                           30\n",
       "Link Function:                    log   Scale:                          1.0000\n",
       "Method:                          IRLS   Log-Likelihood:                -36894.\n",
       "Date:                Mon, 04 Feb 2019   Deviance:                       56025.\n",
       "Time:                        17:50:36   Pearson chi2:                 1.94e+05\n",
       "No. Iterations:                     7   Covariance Type:             nonrobust\n",
       "===============================================================================\n",
       "                  coef    std err          z      P>|z|      [0.025      0.975]\n",
       "-------------------------------------------------------------------------------\n",
       "Intercept      -1.4324      0.028    -51.999      0.000      -1.486      -1.378\n",
       "CarAge         -0.0180      0.002     -8.511      0.000      -0.022      -0.014\n",
       "DriverAge      -0.0033      0.001     -4.470      0.000      -0.005      -0.002\n",
       "Density      1.388e-05   2.67e-06      5.206      0.000    8.65e-06    1.91e-05\n",
       "Power_d        -0.2828      0.039     -7.301      0.000      -0.359      -0.207\n",
       "Power_e        -0.1903      0.036     -5.224      0.000      -0.262      -0.119\n",
       "Power_f        -0.1820      0.036     -5.108      0.000      -0.252      -0.112\n",
       "Power_g        -0.2165      0.035     -6.195      0.000      -0.285      -0.148\n",
       "Power_h        -0.1827      0.048     -3.791      0.000      -0.277      -0.088\n",
       "Power_i        -0.0536      0.053     -1.015      0.310      -0.157       0.050\n",
       "Power_j        -0.0853      0.054     -1.575      0.115      -0.191       0.021\n",
       "Power_k        -0.0687      0.070     -0.980      0.327      -0.206       0.069\n",
       "Power_l        -0.1137      0.102     -1.117      0.264      -0.313       0.086\n",
       "Power_m         0.0378      0.134      0.282      0.778      -0.224       0.300\n",
       "Power_n         0.0753      0.161      0.467      0.641      -0.241       0.391\n",
       "Power_o        -0.1699      0.185     -0.919      0.358      -0.532       0.192\n",
       "Brand_A        -0.1909      0.021     -9.053      0.000      -0.232      -0.150\n",
       "Brand_B        -0.1269      0.034     -3.730      0.000      -0.194      -0.060\n",
       "Brand_C        -0.0660      0.032     -2.069      0.039      -0.129      -0.003\n",
       "Brand_D        -0.1132      0.045     -2.502      0.012      -0.202      -0.025\n",
       "Brand_E        -0.1743      0.045     -3.877      0.000      -0.262      -0.086\n",
       "Brand_F        -0.6136      0.034    -17.965      0.000      -0.681      -0.547\n",
       "Brand_G        -0.1474      0.057     -2.602      0.009      -0.258      -0.036\n",
       "Gas_Diesel     -0.6697      0.017    -39.373      0.000      -0.703      -0.636\n",
       "Gas_Regular    -0.7627      0.019    -40.695      0.000      -0.799      -0.726\n",
       "Region_R11     -0.0886      0.037     -2.366      0.018      -0.162      -0.015\n",
       "Region_R23     -0.3390      0.089     -3.796      0.000      -0.514      -0.164\n",
       "Region_R24     -0.2379      0.023    -10.219      0.000      -0.284      -0.192\n",
       "Region_R25     -0.1335      0.057     -2.343      0.019      -0.245      -0.022\n",
       "Region_R31     -0.1086      0.044     -2.441      0.015      -0.196      -0.021\n",
       "Region_R52     -0.1284      0.034     -3.724      0.000      -0.196      -0.061\n",
       "Region_R53     -0.1499      0.032     -4.697      0.000      -0.212      -0.087\n",
       "Region_R54     -0.1482      0.046     -3.221      0.001      -0.238      -0.058\n",
       "Region_R72     -0.1692      0.042     -4.028      0.000      -0.251      -0.087\n",
       "Region_R74      0.0709      0.086      0.823      0.411      -0.098       0.240\n",
       "===============================================================================\n",
       "\"\"\""
      ]
     },
     "execution_count": 251,
     "metadata": {},
     "output_type": "execute_result"
    }
   ],
   "source": [
    "poisson_reg_simp = smf.glm(str(formula), train_df, family=sm.families.Poisson(), freq_weights=train_df['Exposure']).fit()\n",
    "poisson_reg_simp.summary()"
   ]
  },
  {
   "cell_type": "markdown",
   "metadata": {},
   "source": [
    "Tak jak się spodziewałem, pojawiły się problemy z istotnością zmiennych związanych z mocą silnika, co jest wyczynem, biorąc pod uwagę to, że zbiór treningowy ma około 330 tysięcy obserwacji. W następnym modelu, te zmienne zostaną w większości wyrzucone, żeby nie powodować przeuczenia modelu.\n",
    "Nie istotna również wyszła zmienna Region_R74, ale na tym etapie może to byc spowodowane przez dummy variable trap. W następnym modelu zaczę usuwać zmienne."
   ]
  },
  {
   "cell_type": "code",
   "execution_count": 253,
   "metadata": {},
   "outputs": [],
   "source": [
    "pred_simp = poisson_reg_simp.predict(test_df.drop(['ClaimNb', 'Exposure'], axis=1))"
   ]
  },
  {
   "cell_type": "code",
   "execution_count": 254,
   "metadata": {},
   "outputs": [
    {
     "data": {
      "image/png": "[encoded data removed]",
      "text/plain": [
       "<Figure size 864x432 with 1 Axes>"
      ]
     },
     "metadata": {},
     "output_type": "display_data"
    }
   ],
   "source": [
    "plt.hist(pred_simp, bins=30)\n",
    "plt.show()"
   ]
  },
  {
   "cell_type": "markdown",
   "metadata": {},
   "source": [
    "Histogram oczekiwanych wartości zgłoszonych incydentów wskazuje, że wartości wahają się od 0.02 do około 0.11 z wyraźną asymetrią prawostronną."
   ]
  },
  {
   "cell_type": "markdown",
   "metadata": {},
   "source": [
    "#### Gini"
   ]
  },
  {
   "cell_type": "code",
   "execution_count": 271,
   "metadata": {},
   "outputs": [
    {
     "name": "stdout",
     "output_type": "stream",
     "text": [
      "Ważony Gini:  0.1232\n"
     ]
    }
   ],
   "source": [
    "test_df['Prediction'] = pred_simp\n",
    "DF_for_gini = test_df[['ClaimNb', 'Exposure', 'Prediction']]\n",
    "print(\"Ważony Gini: \", round(weightedGini(DF_for_gini),4)) #0.123"
   ]
  },
  {
   "cell_type": "markdown",
   "metadata": {},
   "source": [
    "Ten najprostrzy model uzyskał wskaźnik ważony ginni na poziomie 0.123. "
   ]
  },
  {
   "cell_type": "markdown",
   "metadata": {},
   "source": [
    "### 4.2 regresja Poissona z wybranymi zmiennymi"
   ]
  },
  {
   "cell_type": "markdown",
   "metadata": {},
   "source": [
    "Drugim etapem tworzenia modelu, jest usunięcie wybranych zmiennych. Szczególnie usunięcie po jednej zmiennej z każdej kategorii (paliwo, marka, region), aby uniknąć współliniowości zmiennych oraz usunięcie nieistotnych zmiennych o mocy silnika."
   ]
  },
  {
   "cell_type": "code",
   "execution_count": 262,
   "metadata": {},
   "outputs": [],
   "source": [
    "# Reset zbioru\n",
    "df = pd.read_csv('MTPLfreq.csv')\n",
    "df.set_index('PolicyID', inplace = True)\n",
    "df.loc[df.Brand=='Renault, Nissan or Citroen', 'Brand'] = 'A'\n",
    "df.loc[df.Brand=='Volkswagen, Audi, Skoda or Seat', 'Brand'] = 'B'\n",
    "df.loc[df.Brand=='Opel, General Motors or Ford', 'Brand'] = 'C'\n",
    "df.loc[df.Brand=='Fiat', 'Brand'] = 'D'\n",
    "df.loc[df.Brand=='Mercedes, Chrysler or BMW', 'Brand'] = 'E'\n",
    "df.loc[df.Brand=='Japanese (except Nissan) or Korean', 'Brand'] = 'F'\n",
    "df.loc[df.Brand=='other', 'Brand'] = 'G'\n",
    "train_df = df.loc[(df.index.map(lambda x: str(x)[-1:])!='8') & (df.index.map(lambda x: str(x)[-1:])!='9'),]\n",
    "test_df = df.loc[(df.index.map(lambda x: str(x)[-1:])=='8') | (df.index.map(lambda x: str(x)[-1:])=='9'),]\n",
    "del df\n",
    "train_df = pd.get_dummies(train_df)\n",
    "test_df = pd.get_dummies(test_df)"
   ]
  },
  {
   "cell_type": "code",
   "execution_count": 263,
   "metadata": {},
   "outputs": [],
   "source": [
    "# Usuwanie niepotrzebnych zmiennch\n",
    "#train_df = train_df.drop([\"Gas_Regular\", \"Region_R53\", \"Power_d\", \"Power_e\",\"Power_f\", \"Power_g\", \"Power_h\", \"Power_i\",  \"Power_j\", \"Power_k\", \"Power_l\", \"Power_m\", \"Power_n\", \"Power_o\", \"Brand_C\"], axis= 1)\n",
    "#test_df = test_df.drop([\"Gas_Regular\", \"Region_R53\", \"Power_d\", \"Power_e\",\"Power_f\", \"Power_g\", \"Power_h\", \"Power_i\",  \"Power_j\", \"Power_k\", \"Power_l\", \"Power_m\", \"Power_n\", \"Power_o\", \"Brand_C\"], axis = 1)\n",
    "\n",
    "# pozostawione l,d, f, n\n",
    "train_df = train_df.drop([\"Gas_Regular\", \"Region_R25\", \"Region_R24\", \"Region_R31\", \"Region_R52\", \"Region_R72\",\n",
    "                          \"Power_e\", \"Power_f\", \"Power_g\", \"Power_h\", \"Power_i\",  \"Power_j\", \"Power_k\", \"Power_l\", \"Power_m\", \"Power_o\", \n",
    "                          \"Brand_A\", \"Brand_B\", \"Brand_D\", \"Brand_E\", \"Brand_G\"], axis= 1)\n",
    "test_df = test_df.drop([\"Gas_Regular\", \"Region_R25\", \"Region_R24\", \"Region_R31\", \"Region_R52\", \"Region_R72\",\n",
    "                          \"Power_e\", \"Power_f\", \"Power_g\", \"Power_h\", \"Power_i\",  \"Power_j\", \"Power_k\", \"Power_l\",\"Power_m\", \"Power_o\", \n",
    "                          \"Brand_A\", \"Brand_B\", \"Brand_D\", \"Brand_E\", \"Brand_G\"], axis= 1)"
   ]
  },
  {
   "cell_type": "code",
   "execution_count": 264,
   "metadata": {},
   "outputs": [
    {
     "data": {
      "text/plain": [
       "'ClaimNb ~ CarAge+DriverAge+Density+Power_d+Power_n+Brand_C+Brand_F+Gas_Diesel+Region_R11+Region_R23+Region_R53+Region_R54+Region_R74'"
      ]
     },
     "execution_count": 264,
     "metadata": {},
     "output_type": "execute_result"
    }
   ],
   "source": [
    "formula = \"ClaimNb ~ \"\n",
    "for col in train_df.columns:\n",
    "    if col != 'ClaimNb' and col != 'Exposure' and col != 'PolicyID':\n",
    "        if formula != \"ClaimNb ~ \":\n",
    "            formula = formula + \"+\" + col\n",
    "        else:\n",
    "            formula = \"ClaimNb ~ \" + str(col)\n",
    "formula"
   ]
  },
  {
   "cell_type": "code",
   "execution_count": 265,
   "metadata": {
    "scrolled": true
   },
   "outputs": [
    {
     "data": {
      "text/html": [
       "<table class=\"simpletable\">\n",
       "<caption>Generalized Linear Model Regression Results</caption>\n",
       "<tr>\n",
       "  <th>Dep. Variable:</th>       <td>ClaimNb</td>     <th>  No. Observations:  </th>  <td>330535</td>  \n",
       "</tr>\n",
       "<tr>\n",
       "  <th>Model:</th>                 <td>GLM</td>       <th>  Df Residuals:      </th>  <td>185445</td>  \n",
       "</tr>\n",
       "<tr>\n",
       "  <th>Model Family:</th>        <td>Poisson</td>     <th>  Df Model:          </th>  <td>    13</td>  \n",
       "</tr>\n",
       "<tr>\n",
       "  <th>Link Function:</th>         <td>log</td>       <th>  Scale:             </th> <td>  1.0000</td> \n",
       "</tr>\n",
       "<tr>\n",
       "  <th>Method:</th>               <td>IRLS</td>       <th>  Log-Likelihood:    </th> <td> -36913.</td> \n",
       "</tr>\n",
       "<tr>\n",
       "  <th>Date:</th>           <td>Mon, 04 Feb 2019</td> <th>  Deviance:          </th> <td>  56064.</td> \n",
       "</tr>\n",
       "<tr>\n",
       "  <th>Time:</th>               <td>17:57:07</td>     <th>  Pearson chi2:      </th> <td>1.94e+05</td> \n",
       "</tr>\n",
       "<tr>\n",
       "  <th>No. Iterations:</th>         <td>7</td>        <th>  Covariance Type:   </th> <td>nonrobust</td>\n",
       "</tr>\n",
       "</table>\n",
       "<table class=\"simpletable\">\n",
       "<tr>\n",
       "       <td></td>         <th>coef</th>     <th>std err</th>      <th>z</th>      <th>P>|z|</th>  <th>[0.025</th>    <th>0.975]</th>  \n",
       "</tr>\n",
       "<tr>\n",
       "  <th>Intercept</th>  <td>   -2.7317</td> <td>    0.046</td> <td>  -60.025</td> <td> 0.000</td> <td>   -2.821</td> <td>   -2.642</td>\n",
       "</tr>\n",
       "<tr>\n",
       "  <th>CarAge</th>     <td>   -0.0182</td> <td>    0.002</td> <td>   -8.675</td> <td> 0.000</td> <td>   -0.022</td> <td>   -0.014</td>\n",
       "</tr>\n",
       "<tr>\n",
       "  <th>DriverAge</th>  <td>   -0.0037</td> <td>    0.001</td> <td>   -5.079</td> <td> 0.000</td> <td>   -0.005</td> <td>   -0.002</td>\n",
       "</tr>\n",
       "<tr>\n",
       "  <th>Density</th>    <td> 1.517e-05</td> <td> 2.65e-06</td> <td>    5.730</td> <td> 0.000</td> <td> 9.98e-06</td> <td> 2.04e-05</td>\n",
       "</tr>\n",
       "<tr>\n",
       "  <th>Power_d</th>    <td>   -0.1059</td> <td>    0.031</td> <td>   -3.423</td> <td> 0.001</td> <td>   -0.166</td> <td>   -0.045</td>\n",
       "</tr>\n",
       "<tr>\n",
       "  <th>Power_n</th>    <td>    0.2640</td> <td>    0.173</td> <td>    1.523</td> <td> 0.128</td> <td>   -0.076</td> <td>    0.604</td>\n",
       "</tr>\n",
       "<tr>\n",
       "  <th>Brand_C</th>    <td>    0.1124</td> <td>    0.034</td> <td>    3.316</td> <td> 0.001</td> <td>    0.046</td> <td>    0.179</td>\n",
       "</tr>\n",
       "<tr>\n",
       "  <th>Brand_F</th>    <td>   -0.4070</td> <td>    0.038</td> <td>  -10.787</td> <td> 0.000</td> <td>   -0.481</td> <td>   -0.333</td>\n",
       "</tr>\n",
       "<tr>\n",
       "  <th>Gas_Diesel</th> <td>    0.0864</td> <td>    0.022</td> <td>    3.902</td> <td> 0.000</td> <td>    0.043</td> <td>    0.130</td>\n",
       "</tr>\n",
       "<tr>\n",
       "  <th>Region_R11</th> <td>    0.1020</td> <td>    0.040</td> <td>    2.542</td> <td> 0.011</td> <td>    0.023</td> <td>    0.181</td>\n",
       "</tr>\n",
       "<tr>\n",
       "  <th>Region_R23</th> <td>   -0.1380</td> <td>    0.098</td> <td>   -1.403</td> <td> 0.161</td> <td>   -0.331</td> <td>    0.055</td>\n",
       "</tr>\n",
       "<tr>\n",
       "  <th>Region_R53</th> <td>    0.0540</td> <td>    0.032</td> <td>    1.674</td> <td> 0.094</td> <td>   -0.009</td> <td>    0.117</td>\n",
       "</tr>\n",
       "<tr>\n",
       "  <th>Region_R54</th> <td>    0.0575</td> <td>    0.049</td> <td>    1.174</td> <td> 0.240</td> <td>   -0.038</td> <td>    0.153</td>\n",
       "</tr>\n",
       "<tr>\n",
       "  <th>Region_R74</th> <td>    0.2728</td> <td>    0.095</td> <td>    2.881</td> <td> 0.004</td> <td>    0.087</td> <td>    0.458</td>\n",
       "</tr>\n",
       "</table>"
      ],
      "text/plain": [
       "<class 'statsmodels.iolib.summary.Summary'>\n",
       "\"\"\"\n",
       "                 Generalized Linear Model Regression Results                  \n",
       "==============================================================================\n",
       "Dep. Variable:                ClaimNb   No. Observations:               330535\n",
       "Model:                            GLM   Df Residuals:                   185445\n",
       "Model Family:                 Poisson   Df Model:                           13\n",
       "Link Function:                    log   Scale:                          1.0000\n",
       "Method:                          IRLS   Log-Likelihood:                -36913.\n",
       "Date:                Mon, 04 Feb 2019   Deviance:                       56064.\n",
       "Time:                        17:57:07   Pearson chi2:                 1.94e+05\n",
       "No. Iterations:                     7   Covariance Type:             nonrobust\n",
       "==============================================================================\n",
       "                 coef    std err          z      P>|z|      [0.025      0.975]\n",
       "------------------------------------------------------------------------------\n",
       "Intercept     -2.7317      0.046    -60.025      0.000      -2.821      -2.642\n",
       "CarAge        -0.0182      0.002     -8.675      0.000      -0.022      -0.014\n",
       "DriverAge     -0.0037      0.001     -5.079      0.000      -0.005      -0.002\n",
       "Density     1.517e-05   2.65e-06      5.730      0.000    9.98e-06    2.04e-05\n",
       "Power_d       -0.1059      0.031     -3.423      0.001      -0.166      -0.045\n",
       "Power_n        0.2640      0.173      1.523      0.128      -0.076       0.604\n",
       "Brand_C        0.1124      0.034      3.316      0.001       0.046       0.179\n",
       "Brand_F       -0.4070      0.038    -10.787      0.000      -0.481      -0.333\n",
       "Gas_Diesel     0.0864      0.022      3.902      0.000       0.043       0.130\n",
       "Region_R11     0.1020      0.040      2.542      0.011       0.023       0.181\n",
       "Region_R23    -0.1380      0.098     -1.403      0.161      -0.331       0.055\n",
       "Region_R53     0.0540      0.032      1.674      0.094      -0.009       0.117\n",
       "Region_R54     0.0575      0.049      1.174      0.240      -0.038       0.153\n",
       "Region_R74     0.2728      0.095      2.881      0.004       0.087       0.458\n",
       "==============================================================================\n",
       "\"\"\""
      ]
     },
     "execution_count": 265,
     "metadata": {},
     "output_type": "execute_result"
    }
   ],
   "source": [
    "poisson_reg = smf.glm(str(formula), train_df, family=sm.families.Poisson(), freq_weights=train_df['Exposure']).fit()\n",
    "poisson_reg.summary()"
   ]
  },
  {
   "cell_type": "markdown",
   "metadata": {},
   "source": [
    "Wszystkie zmienne są istotne (przy poziomie ufności 75%).\n",
    "\n",
    "Współczynniki potwierdzają tezę o pozytywnej zależności liczby zgłoszeń i gęstości zaludnienia oraz negatywnej zależności wieku samochodu oraz wieku kierowcy z ilością zgłoszeń. Czyli im starszy samochód i im starszy kierowca, tym mniej zgłoszeń. Dodatkowo sprawdza się, że Japońskie samochody (marka F) mają mniej zgłoszeń, w przeciwieństwie do Opli, GM i Fordów.\n",
    "Generalnie wyniki są zgodne z tym, co wydawało się już na etapie \"data exploration\"."
   ]
  },
  {
   "cell_type": "code",
   "execution_count": 266,
   "metadata": {},
   "outputs": [],
   "source": [
    "pred = poisson_reg.predict(test_df.drop(['ClaimNb', 'Exposure'], axis=1))"
   ]
  },
  {
   "cell_type": "code",
   "execution_count": 269,
   "metadata": {},
   "outputs": [
    {
     "name": "stdout",
     "output_type": "stream",
     "text": [
      "Ważony Gini:  0.1144\n"
     ]
    }
   ],
   "source": [
    "test_df['Prediction'] = pred\n",
    "DF_for_gini = test_df[['ClaimNb', 'Exposure', 'Prediction']]\n",
    "print(\"Ważony Gini: \", round(weightedGini(DF_for_gini),4)) #0.123"
   ]
  },
  {
   "cell_type": "markdown",
   "metadata": {},
   "source": [
    "Po usunięciu zmiennych o mocy silnika Gini nieznacznie wzrósł (z .12321 do .12331) może to świadczyć o tym, że poprzedni model był przeuczony. Niestety kilka zmiennych opisujących region było nadal nieistotnych. Po usunięciu kilku dodatkowych niepotrzebnych zmiennch Gini spadł do 0.114, ale wszystkie zmienne pozostały istotne."
   ]
  },
  {
   "cell_type": "markdown",
   "metadata": {},
   "source": [
    "## 5. regresja Poissona + splajny"
   ]
  },
  {
   "cell_type": "markdown",
   "metadata": {},
   "source": [
    "W tym modelu podzielę zmienne ilościowe \"DriverAge\" i \"CarAge\" arbitralnie na maksymalnie 20 koszyków, a zmienną Density na 50. Dzięki temu każdy koszyk będzie zmienną binarną. Nie jest to najlepszy sposób, ponieważ predykcja nie będzie oparta o funkcję ciągłą, ale teoretczynie powinno się udać choć trochę uchwycić nielinowość zmiennch, a duża liczba koszyków zrekompensuje po części brak ciągłości. W zbiorze treningowym jest 330 tyś. obserwacji, więc nie trzeba się przejmować malejącą liczbą stopni swobody.\n",
    "\n",
    "Gdybym miał więcej czasu postarałbym się wykorzystać wielomiany, by zapewnić ciągłość."
   ]
  },
  {
   "cell_type": "code",
   "execution_count": 402,
   "metadata": {},
   "outputs": [],
   "source": [
    "# Reset zbioru\n",
    "df = pd.read_csv('MTPLfreq.csv')\n",
    "df.set_index('PolicyID', inplace = True)\n",
    "df.loc[df.Brand=='Renault, Nissan or Citroen', 'Brand'] = 'A'\n",
    "df.loc[df.Brand=='Volkswagen, Audi, Skoda or Seat', 'Brand'] = 'B'\n",
    "df.loc[df.Brand=='Opel, General Motors or Ford', 'Brand'] = 'C'\n",
    "df.loc[df.Brand=='Fiat', 'Brand'] = 'D'\n",
    "df.loc[df.Brand=='Mercedes, Chrysler or BMW', 'Brand'] = 'E'\n",
    "df.loc[df.Brand=='Japanese (except Nissan) or Korean', 'Brand'] = 'F'\n",
    "df.loc[df.Brand=='other', 'Brand'] = 'G'"
   ]
  },
  {
   "cell_type": "code",
   "execution_count": 403,
   "metadata": {},
   "outputs": [],
   "source": [
    "train_df = df.loc[(df.index.map(lambda x: str(x)[-1:])!='8') & (df.index.map(lambda x: str(x)[-1:])!='9'),]\n",
    "test_df = df.loc[(df.index.map(lambda x: str(x)[-1:])=='8') | (df.index.map(lambda x: str(x)[-1:])=='9'),]\n",
    "del df\n",
    "train_df = pd.get_dummies(train_df)\n",
    "test_df = pd.get_dummies(test_df)"
   ]
  },
  {
   "cell_type": "code",
   "execution_count": 404,
   "metadata": {},
   "outputs": [],
   "source": [
    "bins_driver = np.unique(train_df[\"DriverAge\"].quantile(np.linspace(0.05,1,20)))\n",
    "bins_car = np.unique(train_df[\"CarAge\"].quantile(np.linspace(0.05,1,20)))\n",
    "bins_dens = np.unique(train_df[\"Density\"].quantile(np.linspace(0.05,1,51)))"
   ]
  },
  {
   "cell_type": "code",
   "execution_count": 405,
   "metadata": {
    "collapsed": true
   },
   "outputs": [
    {
     "name": "stderr",
     "output_type": "stream",
     "text": [
      "C:\\Users\\adamw\\Anaconda3\\lib\\site-packages\\IPython\\core\\interactiveshell.py:2910: FutureWarning: 'PolicyID' is both an index level and a column label.\n",
      "Defaulting to column, but this will raise an ambiguity error in a future version\n",
      "  exec(code_obj, self.user_global_ns, self.user_ns)\n",
      "C:\\Users\\adamw\\Anaconda3\\lib\\site-packages\\IPython\\core\\interactiveshell.py:2910: FutureWarning: 'PolicyID' is both an index level and a column label.\n",
      "Defaulting to column, but this will raise an ambiguity error in a future version\n",
      "  exec(code_obj, self.user_global_ns, self.user_ns)\n"
     ]
    }
   ],
   "source": [
    "# Podział wieku kierowcy\n",
    "df_DriverAge, bins = pd.cut(train_df['DriverAge'], bins_driver, retbins=True, right=True)\n",
    "df_DriverAge.value_counts(sort=False)\n",
    "df_DriverAge = pd.DataFrame(df_DriverAge)\n",
    "df_DriverAge['PolicyID'] = df_DriverAge.index.values\n",
    "df_DriverAge_dummies = pd.get_dummies(df_DriverAge)\n",
    "df_DriverAge_dummies.head()\n",
    "\n",
    "# Podział wieku samochodu\n",
    "df_CarAge, bins = pd.cut(train_df['CarAge'], bins_car, retbins=True, right=True)\n",
    "df_CarAge.value_counts(sort=False)\n",
    "df_CarAge = pd.DataFrame(df_CarAge)\n",
    "df_CarAge['PolicyID'] = df_CarAge.index.values\n",
    "df_CarAge_dummies = pd.get_dummies(df_CarAge)\n",
    "df_CarAge_dummies.head()\n",
    "\n",
    "# Podział gęstości zaludnienia\n",
    "df_Density, bins = pd.cut(train_df['Density'], bins_dens, retbins=True, right=True)\n",
    "df_Density.value_counts(sort=False)\n",
    "df_Density = pd.DataFrame(df_Density)\n",
    "df_Density['PolicyID'] = df_Density.index.values\n",
    "df_Density_dummies = pd.get_dummies(df_Density)\n",
    "df_Density_dummies.head()\n",
    "\n",
    "train_df = train_df.drop(['DriverAge', 'CarAge', 'Density'], axis=1)\n",
    "train_df = train_df.join(df_DriverAge_dummies, how='outer')\n",
    "train_df = pd.merge(train_df, df_CarAge_dummies, how='inner')\n",
    "train_df = pd.merge(train_df, df_Density_dummies, how='inner', on='PolicyID')\n",
    "\n",
    "del df_CarAge, df_CarAge_dummies, df_DriverAge, df_DriverAge_dummies, bins, df_Density, df_Density_dummies\n",
    "\n",
    "# Modyfikacja nazwy\n",
    "for col in train_df.columns:\n",
    "    train_df.rename(columns={col: col.replace(\"]\", \"\").replace(\" \", \"\").replace(\"-\", \"\").replace(\".\", \"\").replace(\",\", \"\").replace(\")\", \"\").replace(\"[\", \"\").replace(\"(\", \"\").replace(\"(\", \"\").replace(\"]\", \"\")}, inplace=True)\n",
    "    \n",
    "# To samo dla zbioru testowego\n",
    "df_DriverAge, bins = pd.cut(test_df['DriverAge'], bins_driver, retbins=True, right=True)\n",
    "df_DriverAge.value_counts(sort=False)\n",
    "df_DriverAge = pd.DataFrame(df_DriverAge)\n",
    "df_DriverAge['PolicyID'] = df_DriverAge.index.values\n",
    "df_DriverAge_dummies = pd.get_dummies(df_DriverAge)\n",
    "df_DriverAge_dummies.head()\n",
    "\n",
    "df_CarAge, bins = pd.cut(test_df['CarAge'],  bins_car, retbins=True, right=True)\n",
    "df_CarAge.value_counts(sort=False)\n",
    "df_CarAge = pd.DataFrame(df_CarAge)\n",
    "df_CarAge['PolicyID'] = df_CarAge.index.values\n",
    "df_CarAge_dummies = pd.get_dummies(df_CarAge)\n",
    "df_CarAge_dummies.head()\n",
    "\n",
    "# Podział gęstości zaludnienia\n",
    "df_Density, bins = pd.cut(test_df['Density'], bins_dens, retbins=True, right=True)\n",
    "df_Density.value_counts(sort=False)\n",
    "df_Density = pd.DataFrame(df_Density)\n",
    "df_Density['PolicyID'] = df_Density.index.values\n",
    "df_Density_dummies = pd.get_dummies(df_Density)\n",
    "df_Density_dummies.head()\n",
    "\n",
    "test_df = test_df.drop(['DriverAge', 'CarAge', 'Density'], axis=1)\n",
    "test_df = test_df.join(df_DriverAge_dummies, how='outer')\n",
    "test_df = pd.merge(test_df, df_CarAge_dummies, how='inner')\n",
    "test_df = pd.merge(test_df, df_Density_dummies, how='inner', on='PolicyID')\n",
    "\n",
    "del df_CarAge, df_CarAge_dummies, df_DriverAge, df_DriverAge_dummies, bins, df_Density, df_Density_dummies\n",
    "\n",
    "\n",
    "for col in test_df.columns:\n",
    "    test_df.rename(columns={col: col.replace(\"]\", \"\").replace(\" \", \"\").replace(\"-\", \"\").replace(\".\", \"\").replace(\",\", \"\").replace(\")\", \"\").replace(\"[\", \"\").replace(\"(\", \"\").replace(\"(\", \"\").replace(\"]\", \"\")}, inplace=True)  "
   ]
  },
  {
   "cell_type": "code",
   "execution_count": 406,
   "metadata": {},
   "outputs": [],
   "source": [
    "# Usunięte wszystkie poziomy mocy\n",
    "#train_df = train_df.drop([\"Gas_Regular\", \"Region_R53\", \"Power_d\", \"Power_e\",\"Power_f\", \"Power_g\", \"Power_h\", \"Power_i\",  \"Power_j\", \"Power_k\", \"Power_l\", \"Power_m\", \"Power_n\", \"Power_o\", \"Brand_C\"], axis= 1)\n",
    "#test_df = test_df.drop([\"Gas_Regular\", \"Region_R53\", \"Power_d\", \"Power_e\",\"Power_f\", \"Power_g\", \"Power_h\", \"Power_i\",  \"Power_j\", \"Power_k\", \"Power_l\", \"Power_m\", \"Power_n\", \"Power_o\", \"Brand_C\"], axis = 1)\n",
    "\n",
    "# pozostawione l,d, f, n\n",
    "train_df = train_df.drop([\"Gas_Regular\", \"Region_R74\",\n",
    "                          \"Power_e\", \"Power_h\", \"Power_i\",  \"Power_k\", \"Power_l\", \"Power_m\", \"Power_o\", \n",
    "                          \"Brand_G\", \"Brand_D\", \"Brand_E\", \"Brand_B\"], axis= 1)\n",
    "test_df = test_df.drop([\"Gas_Regular\", \"Region_R74\",\n",
    "                          \"Power_e\", \"Power_h\", \"Power_i\",  \"Power_k\", \"Power_l\", \"Power_m\", \"Power_o\", \n",
    "                          \"Brand_G\", \"Brand_D\", \"Brand_E\", \"Brand_B\"], axis= 1)"
   ]
  },
  {
   "cell_type": "code",
   "execution_count": 407,
   "metadata": {
    "collapsed": true
   },
   "outputs": [
    {
     "data": {
      "text/plain": [
       "'ClaimNb ~ Power_d+Power_f+Power_g+Power_j+Power_n+Brand_A+Brand_C+Brand_F+Gas_Diesel+Region_R11+Region_R23+Region_R24+Region_R25+Region_R31+Region_R52+Region_R53+Region_R54+Region_R72+DriverAge_250280+DriverAge_280300+DriverAge_300320+DriverAge_320340+DriverAge_340360+DriverAge_360380+DriverAge_380400+DriverAge_400420+DriverAge_420440+DriverAge_440460+DriverAge_460480+DriverAge_480500+DriverAge_500520+DriverAge_520540+DriverAge_540570+DriverAge_570610+DriverAge_610660+DriverAge_660720+DriverAge_720990+CarAge_0010+CarAge_1020+CarAge_2030+CarAge_3040+CarAge_4050+CarAge_5060+CarAge_6070+CarAge_7080+CarAge_8090+CarAge_90100+CarAge_100110+CarAge_110120+CarAge_120130+CarAge_130140+CarAge_140150+CarAge_150170+CarAge_1701000+Density_170220+Density_220260+Density_260290+Density_290330+Density_330390+Density_390440+Density_440480+Density_480520+Density_520570+Density_570640+Density_640720+Density_720820+Density_820910+Density_910980+Density_9801080+Density_10801200+Density_12001330+Density_13301510+Density_15101700+Density_17001900+Density_19002140+Density_21402380+Density_23802800+Density_28002950+Density_29503470+Density_34703990+Density_39904180+Density_41804730+Density_47305630+Density_56306450+Density_64507410+Density_74108370+Density_837010010+Density_1001011270+Density_1127012960+Density_1296013130+Density_1313014450+Density_1445017840+Density_1784021470+Density_2147026560+Density_2656030210+Density_3021035410+Density_3541040590+Density_4059041280+Density_4128044080+Density_4408056280+Density_5628071870+Density_71870126500+Density_126500270000'"
      ]
     },
     "execution_count": 407,
     "metadata": {},
     "output_type": "execute_result"
    }
   ],
   "source": [
    "formula = \"ClaimNb ~ \"\n",
    "for col in train_df.columns:\n",
    "    if col != 'ClaimNb' and col != 'Exposure' and col != 'PolicyID':\n",
    "        if formula != \"ClaimNb ~ \":\n",
    "            formula = formula + \"+\" + col\n",
    "        else:\n",
    "            formula = \"ClaimNb ~ \" + str(col)\n",
    "formula"
   ]
  },
  {
   "cell_type": "code",
   "execution_count": 408,
   "metadata": {
    "scrolled": true
   },
   "outputs": [
    {
     "data": {
      "text/html": [
       "<table class=\"simpletable\">\n",
       "<caption>Generalized Linear Model Regression Results</caption>\n",
       "<tr>\n",
       "  <th>Dep. Variable:</th>       <td>ClaimNb</td>     <th>  No. Observations:  </th>  <td>330535</td>  \n",
       "</tr>\n",
       "<tr>\n",
       "  <th>Model:</th>                 <td>GLM</td>       <th>  Df Residuals:      </th>  <td>185355</td>  \n",
       "</tr>\n",
       "<tr>\n",
       "  <th>Model Family:</th>        <td>Poisson</td>     <th>  Df Model:          </th>  <td>   103</td>  \n",
       "</tr>\n",
       "<tr>\n",
       "  <th>Link Function:</th>         <td>log</td>       <th>  Scale:             </th> <td>  1.0000</td> \n",
       "</tr>\n",
       "<tr>\n",
       "  <th>Method:</th>               <td>IRLS</td>       <th>  Log-Likelihood:    </th> <td> -36673.</td> \n",
       "</tr>\n",
       "<tr>\n",
       "  <th>Date:</th>           <td>Mon, 04 Feb 2019</td> <th>  Deviance:          </th> <td>  55583.</td> \n",
       "</tr>\n",
       "<tr>\n",
       "  <th>Time:</th>               <td>19:00:12</td>     <th>  Pearson chi2:      </th> <td>1.93e+05</td> \n",
       "</tr>\n",
       "<tr>\n",
       "  <th>No. Iterations:</th>         <td>7</td>        <th>  Covariance Type:   </th> <td>nonrobust</td>\n",
       "</tr>\n",
       "</table>\n",
       "<table class=\"simpletable\">\n",
       "<tr>\n",
       "            <td></td>              <th>coef</th>     <th>std err</th>      <th>z</th>      <th>P>|z|</th>  <th>[0.025</th>    <th>0.975]</th>  \n",
       "</tr>\n",
       "<tr>\n",
       "  <th>Intercept</th>            <td>   -2.7248</td> <td>    0.133</td> <td>  -20.552</td> <td> 0.000</td> <td>   -2.985</td> <td>   -2.465</td>\n",
       "</tr>\n",
       "<tr>\n",
       "  <th>Power_d</th>              <td>   -0.1356</td> <td>    0.034</td> <td>   -4.009</td> <td> 0.000</td> <td>   -0.202</td> <td>   -0.069</td>\n",
       "</tr>\n",
       "<tr>\n",
       "  <th>Power_f</th>              <td>   -0.0380</td> <td>    0.028</td> <td>   -1.350</td> <td> 0.177</td> <td>   -0.093</td> <td>    0.017</td>\n",
       "</tr>\n",
       "<tr>\n",
       "  <th>Power_g</th>              <td>   -0.0560</td> <td>    0.029</td> <td>   -1.938</td> <td> 0.053</td> <td>   -0.113</td> <td>    0.001</td>\n",
       "</tr>\n",
       "<tr>\n",
       "  <th>Power_j</th>              <td>    0.0703</td> <td>    0.054</td> <td>    1.294</td> <td> 0.196</td> <td>   -0.036</td> <td>    0.177</td>\n",
       "</tr>\n",
       "<tr>\n",
       "  <th>Power_n</th>              <td>    0.2342</td> <td>    0.174</td> <td>    1.344</td> <td> 0.179</td> <td>   -0.107</td> <td>    0.576</td>\n",
       "</tr>\n",
       "<tr>\n",
       "  <th>Brand_A</th>              <td>   -0.0500</td> <td>    0.027</td> <td>   -1.840</td> <td> 0.066</td> <td>   -0.103</td> <td>    0.003</td>\n",
       "</tr>\n",
       "<tr>\n",
       "  <th>Brand_C</th>              <td>    0.0430</td> <td>    0.039</td> <td>    1.100</td> <td> 0.271</td> <td>   -0.034</td> <td>    0.120</td>\n",
       "</tr>\n",
       "<tr>\n",
       "  <th>Brand_F</th>              <td>   -0.3902</td> <td>    0.043</td> <td>   -8.988</td> <td> 0.000</td> <td>   -0.475</td> <td>   -0.305</td>\n",
       "</tr>\n",
       "<tr>\n",
       "  <th>Gas_Diesel</th>           <td>    0.1287</td> <td>    0.023</td> <td>    5.669</td> <td> 0.000</td> <td>    0.084</td> <td>    0.173</td>\n",
       "</tr>\n",
       "<tr>\n",
       "  <th>Region_R11</th>           <td>   -0.3237</td> <td>    0.106</td> <td>   -3.064</td> <td> 0.002</td> <td>   -0.531</td> <td>   -0.117</td>\n",
       "</tr>\n",
       "<tr>\n",
       "  <th>Region_R23</th>           <td>   -0.5423</td> <td>    0.138</td> <td>   -3.920</td> <td> 0.000</td> <td>   -0.813</td> <td>   -0.271</td>\n",
       "</tr>\n",
       "<tr>\n",
       "  <th>Region_R24</th>           <td>   -0.3916</td> <td>    0.098</td> <td>   -3.997</td> <td> 0.000</td> <td>   -0.584</td> <td>   -0.200</td>\n",
       "</tr>\n",
       "<tr>\n",
       "  <th>Region_R25</th>           <td>   -0.3571</td> <td>    0.115</td> <td>   -3.108</td> <td> 0.002</td> <td>   -0.582</td> <td>   -0.132</td>\n",
       "</tr>\n",
       "<tr>\n",
       "  <th>Region_R31</th>           <td>   -0.3756</td> <td>    0.108</td> <td>   -3.483</td> <td> 0.000</td> <td>   -0.587</td> <td>   -0.164</td>\n",
       "</tr>\n",
       "<tr>\n",
       "  <th>Region_R52</th>           <td>   -0.3796</td> <td>    0.103</td> <td>   -3.687</td> <td> 0.000</td> <td>   -0.581</td> <td>   -0.178</td>\n",
       "</tr>\n",
       "<tr>\n",
       "  <th>Region_R53</th>           <td>   -0.3916</td> <td>    0.103</td> <td>   -3.817</td> <td> 0.000</td> <td>   -0.593</td> <td>   -0.191</td>\n",
       "</tr>\n",
       "<tr>\n",
       "  <th>Region_R54</th>           <td>   -0.3359</td> <td>    0.108</td> <td>   -3.096</td> <td> 0.002</td> <td>   -0.549</td> <td>   -0.123</td>\n",
       "</tr>\n",
       "<tr>\n",
       "  <th>Region_R72</th>           <td>   -0.3822</td> <td>    0.107</td> <td>   -3.580</td> <td> 0.000</td> <td>   -0.591</td> <td>   -0.173</td>\n",
       "</tr>\n",
       "<tr>\n",
       "  <th>DriverAge_250280</th>     <td>   -0.4307</td> <td>    0.061</td> <td>   -7.010</td> <td> 0.000</td> <td>   -0.551</td> <td>   -0.310</td>\n",
       "</tr>\n",
       "<tr>\n",
       "  <th>DriverAge_280300</th>     <td>   -0.5166</td> <td>    0.066</td> <td>   -7.839</td> <td> 0.000</td> <td>   -0.646</td> <td>   -0.387</td>\n",
       "</tr>\n",
       "<tr>\n",
       "  <th>DriverAge_300320</th>     <td>   -0.5779</td> <td>    0.065</td> <td>   -8.863</td> <td> 0.000</td> <td>   -0.706</td> <td>   -0.450</td>\n",
       "</tr>\n",
       "<tr>\n",
       "  <th>DriverAge_320340</th>     <td>   -0.5663</td> <td>    0.064</td> <td>   -8.876</td> <td> 0.000</td> <td>   -0.691</td> <td>   -0.441</td>\n",
       "</tr>\n",
       "<tr>\n",
       "  <th>DriverAge_340360</th>     <td>   -0.5749</td> <td>    0.064</td> <td>   -9.037</td> <td> 0.000</td> <td>   -0.700</td> <td>   -0.450</td>\n",
       "</tr>\n",
       "<tr>\n",
       "  <th>DriverAge_360380</th>     <td>   -0.5148</td> <td>    0.062</td> <td>   -8.344</td> <td> 0.000</td> <td>   -0.636</td> <td>   -0.394</td>\n",
       "</tr>\n",
       "<tr>\n",
       "  <th>DriverAge_380400</th>     <td>   -0.5281</td> <td>    0.062</td> <td>   -8.486</td> <td> 0.000</td> <td>   -0.650</td> <td>   -0.406</td>\n",
       "</tr>\n",
       "<tr>\n",
       "  <th>DriverAge_400420</th>     <td>   -0.4597</td> <td>    0.061</td> <td>   -7.529</td> <td> 0.000</td> <td>   -0.579</td> <td>   -0.340</td>\n",
       "</tr>\n",
       "<tr>\n",
       "  <th>DriverAge_420440</th>     <td>   -0.3690</td> <td>    0.060</td> <td>   -6.191</td> <td> 0.000</td> <td>   -0.486</td> <td>   -0.252</td>\n",
       "</tr>\n",
       "<tr>\n",
       "  <th>DriverAge_440460</th>     <td>   -0.4215</td> <td>    0.061</td> <td>   -6.953</td> <td> 0.000</td> <td>   -0.540</td> <td>   -0.303</td>\n",
       "</tr>\n",
       "<tr>\n",
       "  <th>DriverAge_460480</th>     <td>   -0.4013</td> <td>    0.060</td> <td>   -6.707</td> <td> 0.000</td> <td>   -0.519</td> <td>   -0.284</td>\n",
       "</tr>\n",
       "<tr>\n",
       "  <th>DriverAge_480500</th>     <td>   -0.3762</td> <td>    0.058</td> <td>   -6.442</td> <td> 0.000</td> <td>   -0.491</td> <td>   -0.262</td>\n",
       "</tr>\n",
       "<tr>\n",
       "  <th>DriverAge_500520</th>     <td>   -0.4065</td> <td>    0.058</td> <td>   -6.957</td> <td> 0.000</td> <td>   -0.521</td> <td>   -0.292</td>\n",
       "</tr>\n",
       "<tr>\n",
       "  <th>DriverAge_520540</th>     <td>   -0.4697</td> <td>    0.061</td> <td>   -7.745</td> <td> 0.000</td> <td>   -0.589</td> <td>   -0.351</td>\n",
       "</tr>\n",
       "<tr>\n",
       "  <th>DriverAge_540570</th>     <td>   -0.5582</td> <td>    0.059</td> <td>   -9.525</td> <td> 0.000</td> <td>   -0.673</td> <td>   -0.443</td>\n",
       "</tr>\n",
       "<tr>\n",
       "  <th>DriverAge_570610</th>     <td>   -0.4982</td> <td>    0.060</td> <td>   -8.357</td> <td> 0.000</td> <td>   -0.615</td> <td>   -0.381</td>\n",
       "</tr>\n",
       "<tr>\n",
       "  <th>DriverAge_610660</th>     <td>   -0.5103</td> <td>    0.061</td> <td>   -8.334</td> <td> 0.000</td> <td>   -0.630</td> <td>   -0.390</td>\n",
       "</tr>\n",
       "<tr>\n",
       "  <th>DriverAge_660720</th>     <td>   -0.5474</td> <td>    0.061</td> <td>   -8.936</td> <td> 0.000</td> <td>   -0.667</td> <td>   -0.427</td>\n",
       "</tr>\n",
       "<tr>\n",
       "  <th>DriverAge_720990</th>     <td>   -0.3854</td> <td>    0.057</td> <td>   -6.755</td> <td> 0.000</td> <td>   -0.497</td> <td>   -0.274</td>\n",
       "</tr>\n",
       "<tr>\n",
       "  <th>CarAge_0010</th>          <td>    0.3093</td> <td>    0.073</td> <td>    4.226</td> <td> 0.000</td> <td>    0.166</td> <td>    0.453</td>\n",
       "</tr>\n",
       "<tr>\n",
       "  <th>CarAge_1020</th>          <td>    0.3301</td> <td>    0.074</td> <td>    4.489</td> <td> 0.000</td> <td>    0.186</td> <td>    0.474</td>\n",
       "</tr>\n",
       "<tr>\n",
       "  <th>CarAge_2030</th>          <td>    0.3024</td> <td>    0.075</td> <td>    4.032</td> <td> 0.000</td> <td>    0.155</td> <td>    0.449</td>\n",
       "</tr>\n",
       "<tr>\n",
       "  <th>CarAge_3040</th>          <td>    0.3311</td> <td>    0.075</td> <td>    4.389</td> <td> 0.000</td> <td>    0.183</td> <td>    0.479</td>\n",
       "</tr>\n",
       "<tr>\n",
       "  <th>CarAge_4050</th>          <td>    0.3490</td> <td>    0.076</td> <td>    4.602</td> <td> 0.000</td> <td>    0.200</td> <td>    0.498</td>\n",
       "</tr>\n",
       "<tr>\n",
       "  <th>CarAge_5060</th>          <td>    0.4125</td> <td>    0.076</td> <td>    5.444</td> <td> 0.000</td> <td>    0.264</td> <td>    0.561</td>\n",
       "</tr>\n",
       "<tr>\n",
       "  <th>CarAge_6070</th>          <td>    0.3573</td> <td>    0.077</td> <td>    4.630</td> <td> 0.000</td> <td>    0.206</td> <td>    0.509</td>\n",
       "</tr>\n",
       "<tr>\n",
       "  <th>CarAge_7080</th>          <td>    0.3174</td> <td>    0.077</td> <td>    4.098</td> <td> 0.000</td> <td>    0.166</td> <td>    0.469</td>\n",
       "</tr>\n",
       "<tr>\n",
       "  <th>CarAge_8090</th>          <td>    0.3234</td> <td>    0.078</td> <td>    4.158</td> <td> 0.000</td> <td>    0.171</td> <td>    0.476</td>\n",
       "</tr>\n",
       "<tr>\n",
       "  <th>CarAge_90100</th>         <td>    0.2707</td> <td>    0.077</td> <td>    3.503</td> <td> 0.000</td> <td>    0.119</td> <td>    0.422</td>\n",
       "</tr>\n",
       "<tr>\n",
       "  <th>CarAge_100110</th>        <td>    0.2942</td> <td>    0.079</td> <td>    3.719</td> <td> 0.000</td> <td>    0.139</td> <td>    0.449</td>\n",
       "</tr>\n",
       "<tr>\n",
       "  <th>CarAge_110120</th>        <td>    0.3101</td> <td>    0.079</td> <td>    3.916</td> <td> 0.000</td> <td>    0.155</td> <td>    0.465</td>\n",
       "</tr>\n",
       "<tr>\n",
       "  <th>CarAge_120130</th>        <td>    0.1196</td> <td>    0.083</td> <td>    1.439</td> <td> 0.150</td> <td>   -0.043</td> <td>    0.282</td>\n",
       "</tr>\n",
       "<tr>\n",
       "  <th>CarAge_130140</th>        <td>    0.0983</td> <td>    0.085</td> <td>    1.155</td> <td> 0.248</td> <td>   -0.068</td> <td>    0.265</td>\n",
       "</tr>\n",
       "<tr>\n",
       "  <th>CarAge_140150</th>        <td>    0.0364</td> <td>    0.089</td> <td>    0.409</td> <td> 0.683</td> <td>   -0.138</td> <td>    0.211</td>\n",
       "</tr>\n",
       "<tr>\n",
       "  <th>CarAge_150170</th>        <td>    0.0494</td> <td>    0.085</td> <td>    0.581</td> <td> 0.561</td> <td>   -0.117</td> <td>    0.216</td>\n",
       "</tr>\n",
       "<tr>\n",
       "  <th>CarAge_1701000</th>       <td>   -0.1507</td> <td>    0.089</td> <td>   -1.695</td> <td> 0.090</td> <td>   -0.325</td> <td>    0.024</td>\n",
       "</tr>\n",
       "<tr>\n",
       "  <th>Density_170220</th>       <td>    0.0141</td> <td>    0.093</td> <td>    0.151</td> <td> 0.880</td> <td>   -0.168</td> <td>    0.197</td>\n",
       "</tr>\n",
       "<tr>\n",
       "  <th>Density_220260</th>       <td>    0.1791</td> <td>    0.090</td> <td>    1.994</td> <td> 0.046</td> <td>    0.003</td> <td>    0.355</td>\n",
       "</tr>\n",
       "<tr>\n",
       "  <th>Density_260290</th>       <td>    0.1497</td> <td>    0.098</td> <td>    1.530</td> <td> 0.126</td> <td>   -0.042</td> <td>    0.342</td>\n",
       "</tr>\n",
       "<tr>\n",
       "  <th>Density_290330</th>       <td>    0.0167</td> <td>    0.094</td> <td>    0.178</td> <td> 0.859</td> <td>   -0.167</td> <td>    0.201</td>\n",
       "</tr>\n",
       "<tr>\n",
       "  <th>Density_330390</th>       <td>    0.2067</td> <td>    0.091</td> <td>    2.273</td> <td> 0.023</td> <td>    0.028</td> <td>    0.385</td>\n",
       "</tr>\n",
       "<tr>\n",
       "  <th>Density_390440</th>       <td>    0.1704</td> <td>    0.085</td> <td>    2.016</td> <td> 0.044</td> <td>    0.005</td> <td>    0.336</td>\n",
       "</tr>\n",
       "<tr>\n",
       "  <th>Density_440480</th>       <td>    0.3432</td> <td>    0.095</td> <td>    3.621</td> <td> 0.000</td> <td>    0.157</td> <td>    0.529</td>\n",
       "</tr>\n",
       "<tr>\n",
       "  <th>Density_480520</th>       <td>    0.0619</td> <td>    0.097</td> <td>    0.636</td> <td> 0.525</td> <td>   -0.129</td> <td>    0.253</td>\n",
       "</tr>\n",
       "<tr>\n",
       "  <th>Density_520570</th>       <td>    0.1523</td> <td>    0.091</td> <td>    1.677</td> <td> 0.093</td> <td>   -0.026</td> <td>    0.330</td>\n",
       "</tr>\n",
       "<tr>\n",
       "  <th>Density_570640</th>       <td>    0.3602</td> <td>    0.089</td> <td>    4.051</td> <td> 0.000</td> <td>    0.186</td> <td>    0.535</td>\n",
       "</tr>\n",
       "<tr>\n",
       "  <th>Density_640720</th>       <td>    0.2046</td> <td>    0.094</td> <td>    2.169</td> <td> 0.030</td> <td>    0.020</td> <td>    0.389</td>\n",
       "</tr>\n",
       "<tr>\n",
       "  <th>Density_720820</th>       <td>    0.2467</td> <td>    0.092</td> <td>    2.676</td> <td> 0.007</td> <td>    0.066</td> <td>    0.427</td>\n",
       "</tr>\n",
       "<tr>\n",
       "  <th>Density_820910</th>       <td>    0.2238</td> <td>    0.084</td> <td>    2.662</td> <td> 0.008</td> <td>    0.059</td> <td>    0.389</td>\n",
       "</tr>\n",
       "<tr>\n",
       "  <th>Density_910980</th>       <td>    0.2634</td> <td>    0.101</td> <td>    2.616</td> <td> 0.009</td> <td>    0.066</td> <td>    0.461</td>\n",
       "</tr>\n",
       "<tr>\n",
       "  <th>Density_9801080</th>      <td>    0.1851</td> <td>    0.093</td> <td>    1.984</td> <td> 0.047</td> <td>    0.002</td> <td>    0.368</td>\n",
       "</tr>\n",
       "<tr>\n",
       "  <th>Density_10801200</th>     <td>    0.2166</td> <td>    0.093</td> <td>    2.332</td> <td> 0.020</td> <td>    0.035</td> <td>    0.399</td>\n",
       "</tr>\n",
       "<tr>\n",
       "  <th>Density_12001330</th>     <td>    0.4672</td> <td>    0.087</td> <td>    5.394</td> <td> 0.000</td> <td>    0.297</td> <td>    0.637</td>\n",
       "</tr>\n",
       "<tr>\n",
       "  <th>Density_13301510</th>     <td>    0.1581</td> <td>    0.095</td> <td>    1.661</td> <td> 0.097</td> <td>   -0.028</td> <td>    0.345</td>\n",
       "</tr>\n",
       "<tr>\n",
       "  <th>Density_15101700</th>     <td>    0.2453</td> <td>    0.089</td> <td>    2.757</td> <td> 0.006</td> <td>    0.071</td> <td>    0.420</td>\n",
       "</tr>\n",
       "<tr>\n",
       "  <th>Density_17001900</th>     <td>    0.1951</td> <td>    0.096</td> <td>    2.034</td> <td> 0.042</td> <td>    0.007</td> <td>    0.383</td>\n",
       "</tr>\n",
       "<tr>\n",
       "  <th>Density_19002140</th>     <td>    0.2466</td> <td>    0.091</td> <td>    2.700</td> <td> 0.007</td> <td>    0.068</td> <td>    0.426</td>\n",
       "</tr>\n",
       "<tr>\n",
       "  <th>Density_21402380</th>     <td>    0.3736</td> <td>    0.088</td> <td>    4.237</td> <td> 0.000</td> <td>    0.201</td> <td>    0.546</td>\n",
       "</tr>\n",
       "<tr>\n",
       "  <th>Density_23802800</th>     <td>    0.2657</td> <td>    0.092</td> <td>    2.885</td> <td> 0.004</td> <td>    0.085</td> <td>    0.446</td>\n",
       "</tr>\n",
       "<tr>\n",
       "  <th>Density_28002950</th>     <td>    0.3528</td> <td>    0.089</td> <td>    3.948</td> <td> 0.000</td> <td>    0.178</td> <td>    0.528</td>\n",
       "</tr>\n",
       "<tr>\n",
       "  <th>Density_29503470</th>     <td>    0.2426</td> <td>    0.095</td> <td>    2.561</td> <td> 0.010</td> <td>    0.057</td> <td>    0.428</td>\n",
       "</tr>\n",
       "<tr>\n",
       "  <th>Density_34703990</th>     <td>    0.2388</td> <td>    0.088</td> <td>    2.710</td> <td> 0.007</td> <td>    0.066</td> <td>    0.412</td>\n",
       "</tr>\n",
       "<tr>\n",
       "  <th>Density_39904180</th>     <td>    0.4360</td> <td>    0.089</td> <td>    4.875</td> <td> 0.000</td> <td>    0.261</td> <td>    0.611</td>\n",
       "</tr>\n",
       "<tr>\n",
       "  <th>Density_41804730</th>     <td>    0.4842</td> <td>    0.084</td> <td>    5.750</td> <td> 0.000</td> <td>    0.319</td> <td>    0.649</td>\n",
       "</tr>\n",
       "<tr>\n",
       "  <th>Density_47305630</th>     <td>    0.3338</td> <td>    0.098</td> <td>    3.411</td> <td> 0.001</td> <td>    0.142</td> <td>    0.526</td>\n",
       "</tr>\n",
       "<tr>\n",
       "  <th>Density_56306450</th>     <td>    0.3206</td> <td>    0.092</td> <td>    3.500</td> <td> 0.000</td> <td>    0.141</td> <td>    0.500</td>\n",
       "</tr>\n",
       "<tr>\n",
       "  <th>Density_64507410</th>     <td>    0.2825</td> <td>    0.095</td> <td>    2.985</td> <td> 0.003</td> <td>    0.097</td> <td>    0.468</td>\n",
       "</tr>\n",
       "<tr>\n",
       "  <th>Density_74108370</th>     <td>    0.4408</td> <td>    0.091</td> <td>    4.870</td> <td> 0.000</td> <td>    0.263</td> <td>    0.618</td>\n",
       "</tr>\n",
       "<tr>\n",
       "  <th>Density_837010010</th>    <td>    0.4945</td> <td>    0.092</td> <td>    5.402</td> <td> 0.000</td> <td>    0.315</td> <td>    0.674</td>\n",
       "</tr>\n",
       "<tr>\n",
       "  <th>Density_1001011270</th>   <td>    0.5326</td> <td>    0.085</td> <td>    6.256</td> <td> 0.000</td> <td>    0.366</td> <td>    0.700</td>\n",
       "</tr>\n",
       "<tr>\n",
       "  <th>Density_1127012960</th>   <td>    0.4580</td> <td>    0.092</td> <td>    4.992</td> <td> 0.000</td> <td>    0.278</td> <td>    0.638</td>\n",
       "</tr>\n",
       "<tr>\n",
       "  <th>Density_1296013130</th>   <td>    0.5277</td> <td>    0.083</td> <td>    6.394</td> <td> 0.000</td> <td>    0.366</td> <td>    0.689</td>\n",
       "</tr>\n",
       "<tr>\n",
       "  <th>Density_1313014450</th>   <td>    0.5457</td> <td>    0.088</td> <td>    6.229</td> <td> 0.000</td> <td>    0.374</td> <td>    0.717</td>\n",
       "</tr>\n",
       "<tr>\n",
       "  <th>Density_1445017840</th>   <td>    0.3481</td> <td>    0.102</td> <td>    3.419</td> <td> 0.001</td> <td>    0.149</td> <td>    0.548</td>\n",
       "</tr>\n",
       "<tr>\n",
       "  <th>Density_1784021470</th>   <td>    0.4689</td> <td>    0.093</td> <td>    5.027</td> <td> 0.000</td> <td>    0.286</td> <td>    0.652</td>\n",
       "</tr>\n",
       "<tr>\n",
       "  <th>Density_2147026560</th>   <td>    0.5631</td> <td>    0.097</td> <td>    5.790</td> <td> 0.000</td> <td>    0.372</td> <td>    0.754</td>\n",
       "</tr>\n",
       "<tr>\n",
       "  <th>Density_2656030210</th>   <td>    0.5746</td> <td>    0.093</td> <td>    6.210</td> <td> 0.000</td> <td>    0.393</td> <td>    0.756</td>\n",
       "</tr>\n",
       "<tr>\n",
       "  <th>Density_3021035410</th>   <td>    0.5679</td> <td>    0.089</td> <td>    6.362</td> <td> 0.000</td> <td>    0.393</td> <td>    0.743</td>\n",
       "</tr>\n",
       "<tr>\n",
       "  <th>Density_3541040590</th>   <td>    0.4896</td> <td>    0.103</td> <td>    4.736</td> <td> 0.000</td> <td>    0.287</td> <td>    0.692</td>\n",
       "</tr>\n",
       "<tr>\n",
       "  <th>Density_4059041280</th>   <td>    0.6430</td> <td>    0.080</td> <td>    8.006</td> <td> 0.000</td> <td>    0.486</td> <td>    0.800</td>\n",
       "</tr>\n",
       "<tr>\n",
       "  <th>Density_4128044080</th>   <td>    0.4865</td> <td>    0.122</td> <td>    3.986</td> <td> 0.000</td> <td>    0.247</td> <td>    0.726</td>\n",
       "</tr>\n",
       "<tr>\n",
       "  <th>Density_4408056280</th>   <td>    0.4282</td> <td>    0.109</td> <td>    3.918</td> <td> 0.000</td> <td>    0.214</td> <td>    0.642</td>\n",
       "</tr>\n",
       "<tr>\n",
       "  <th>Density_5628071870</th>   <td>    0.4925</td> <td>    0.109</td> <td>    4.527</td> <td> 0.000</td> <td>    0.279</td> <td>    0.706</td>\n",
       "</tr>\n",
       "<tr>\n",
       "  <th>Density_71870126500</th>  <td>    0.5217</td> <td>    0.106</td> <td>    4.945</td> <td> 0.000</td> <td>    0.315</td> <td>    0.729</td>\n",
       "</tr>\n",
       "<tr>\n",
       "  <th>Density_126500270000</th> <td>    0.6154</td> <td>    0.086</td> <td>    7.141</td> <td> 0.000</td> <td>    0.447</td> <td>    0.784</td>\n",
       "</tr>\n",
       "</table>"
      ],
      "text/plain": [
       "<class 'statsmodels.iolib.summary.Summary'>\n",
       "\"\"\"\n",
       "                 Generalized Linear Model Regression Results                  \n",
       "==============================================================================\n",
       "Dep. Variable:                ClaimNb   No. Observations:               330535\n",
       "Model:                            GLM   Df Residuals:                   185355\n",
       "Model Family:                 Poisson   Df Model:                          103\n",
       "Link Function:                    log   Scale:                          1.0000\n",
       "Method:                          IRLS   Log-Likelihood:                -36673.\n",
       "Date:                Mon, 04 Feb 2019   Deviance:                       55583.\n",
       "Time:                        19:00:12   Pearson chi2:                 1.93e+05\n",
       "No. Iterations:                     7   Covariance Type:             nonrobust\n",
       "========================================================================================\n",
       "                           coef    std err          z      P>|z|      [0.025      0.975]\n",
       "----------------------------------------------------------------------------------------\n",
       "Intercept               -2.7248      0.133    -20.552      0.000      -2.985      -2.465\n",
       "Power_d                 -0.1356      0.034     -4.009      0.000      -0.202      -0.069\n",
       "Power_f                 -0.0380      0.028     -1.350      0.177      -0.093       0.017\n",
       "Power_g                 -0.0560      0.029     -1.938      0.053      -0.113       0.001\n",
       "Power_j                  0.0703      0.054      1.294      0.196      -0.036       0.177\n",
       "Power_n                  0.2342      0.174      1.344      0.179      -0.107       0.576\n",
       "Brand_A                 -0.0500      0.027     -1.840      0.066      -0.103       0.003\n",
       "Brand_C                  0.0430      0.039      1.100      0.271      -0.034       0.120\n",
       "Brand_F                 -0.3902      0.043     -8.988      0.000      -0.475      -0.305\n",
       "Gas_Diesel               0.1287      0.023      5.669      0.000       0.084       0.173\n",
       "Region_R11              -0.3237      0.106     -3.064      0.002      -0.531      -0.117\n",
       "Region_R23              -0.5423      0.138     -3.920      0.000      -0.813      -0.271\n",
       "Region_R24              -0.3916      0.098     -3.997      0.000      -0.584      -0.200\n",
       "Region_R25              -0.3571      0.115     -3.108      0.002      -0.582      -0.132\n",
       "Region_R31              -0.3756      0.108     -3.483      0.000      -0.587      -0.164\n",
       "Region_R52              -0.3796      0.103     -3.687      0.000      -0.581      -0.178\n",
       "Region_R53              -0.3916      0.103     -3.817      0.000      -0.593      -0.191\n",
       "Region_R54              -0.3359      0.108     -3.096      0.002      -0.549      -0.123\n",
       "Region_R72              -0.3822      0.107     -3.580      0.000      -0.591      -0.173\n",
       "DriverAge_250280        -0.4307      0.061     -7.010      0.000      -0.551      -0.310\n",
       "DriverAge_280300        -0.5166      0.066     -7.839      0.000      -0.646      -0.387\n",
       "DriverAge_300320        -0.5779      0.065     -8.863      0.000      -0.706      -0.450\n",
       "DriverAge_320340        -0.5663      0.064     -8.876      0.000      -0.691      -0.441\n",
       "DriverAge_340360        -0.5749      0.064     -9.037      0.000      -0.700      -0.450\n",
       "DriverAge_360380        -0.5148      0.062     -8.344      0.000      -0.636      -0.394\n",
       "DriverAge_380400        -0.5281      0.062     -8.486      0.000      -0.650      -0.406\n",
       "DriverAge_400420        -0.4597      0.061     -7.529      0.000      -0.579      -0.340\n",
       "DriverAge_420440        -0.3690      0.060     -6.191      0.000      -0.486      -0.252\n",
       "DriverAge_440460        -0.4215      0.061     -6.953      0.000      -0.540      -0.303\n",
       "DriverAge_460480        -0.4013      0.060     -6.707      0.000      -0.519      -0.284\n",
       "DriverAge_480500        -0.3762      0.058     -6.442      0.000      -0.491      -0.262\n",
       "DriverAge_500520        -0.4065      0.058     -6.957      0.000      -0.521      -0.292\n",
       "DriverAge_520540        -0.4697      0.061     -7.745      0.000      -0.589      -0.351\n",
       "DriverAge_540570        -0.5582      0.059     -9.525      0.000      -0.673      -0.443\n",
       "DriverAge_570610        -0.4982      0.060     -8.357      0.000      -0.615      -0.381\n",
       "DriverAge_610660        -0.5103      0.061     -8.334      0.000      -0.630      -0.390\n",
       "DriverAge_660720        -0.5474      0.061     -8.936      0.000      -0.667      -0.427\n",
       "DriverAge_720990        -0.3854      0.057     -6.755      0.000      -0.497      -0.274\n",
       "CarAge_0010              0.3093      0.073      4.226      0.000       0.166       0.453\n",
       "CarAge_1020              0.3301      0.074      4.489      0.000       0.186       0.474\n",
       "CarAge_2030              0.3024      0.075      4.032      0.000       0.155       0.449\n",
       "CarAge_3040              0.3311      0.075      4.389      0.000       0.183       0.479\n",
       "CarAge_4050              0.3490      0.076      4.602      0.000       0.200       0.498\n",
       "CarAge_5060              0.4125      0.076      5.444      0.000       0.264       0.561\n",
       "CarAge_6070              0.3573      0.077      4.630      0.000       0.206       0.509\n",
       "CarAge_7080              0.3174      0.077      4.098      0.000       0.166       0.469\n",
       "CarAge_8090              0.3234      0.078      4.158      0.000       0.171       0.476\n",
       "CarAge_90100             0.2707      0.077      3.503      0.000       0.119       0.422\n",
       "CarAge_100110            0.2942      0.079      3.719      0.000       0.139       0.449\n",
       "CarAge_110120            0.3101      0.079      3.916      0.000       0.155       0.465\n",
       "CarAge_120130            0.1196      0.083      1.439      0.150      -0.043       0.282\n",
       "CarAge_130140            0.0983      0.085      1.155      0.248      -0.068       0.265\n",
       "CarAge_140150            0.0364      0.089      0.409      0.683      -0.138       0.211\n",
       "CarAge_150170            0.0494      0.085      0.581      0.561      -0.117       0.216\n",
       "CarAge_1701000          -0.1507      0.089     -1.695      0.090      -0.325       0.024\n",
       "Density_170220           0.0141      0.093      0.151      0.880      -0.168       0.197\n",
       "Density_220260           0.1791      0.090      1.994      0.046       0.003       0.355\n",
       "Density_260290           0.1497      0.098      1.530      0.126      -0.042       0.342\n",
       "Density_290330           0.0167      0.094      0.178      0.859      -0.167       0.201\n",
       "Density_330390           0.2067      0.091      2.273      0.023       0.028       0.385\n",
       "Density_390440           0.1704      0.085      2.016      0.044       0.005       0.336\n",
       "Density_440480           0.3432      0.095      3.621      0.000       0.157       0.529\n",
       "Density_480520           0.0619      0.097      0.636      0.525      -0.129       0.253\n",
       "Density_520570           0.1523      0.091      1.677      0.093      -0.026       0.330\n",
       "Density_570640           0.3602      0.089      4.051      0.000       0.186       0.535\n",
       "Density_640720           0.2046      0.094      2.169      0.030       0.020       0.389\n",
       "Density_720820           0.2467      0.092      2.676      0.007       0.066       0.427\n",
       "Density_820910           0.2238      0.084      2.662      0.008       0.059       0.389\n",
       "Density_910980           0.2634      0.101      2.616      0.009       0.066       0.461\n",
       "Density_9801080          0.1851      0.093      1.984      0.047       0.002       0.368\n",
       "Density_10801200         0.2166      0.093      2.332      0.020       0.035       0.399\n",
       "Density_12001330         0.4672      0.087      5.394      0.000       0.297       0.637\n",
       "Density_13301510         0.1581      0.095      1.661      0.097      -0.028       0.345\n",
       "Density_15101700         0.2453      0.089      2.757      0.006       0.071       0.420\n",
       "Density_17001900         0.1951      0.096      2.034      0.042       0.007       0.383\n",
       "Density_19002140         0.2466      0.091      2.700      0.007       0.068       0.426\n",
       "Density_21402380         0.3736      0.088      4.237      0.000       0.201       0.546\n",
       "Density_23802800         0.2657      0.092      2.885      0.004       0.085       0.446\n",
       "Density_28002950         0.3528      0.089      3.948      0.000       0.178       0.528\n",
       "Density_29503470         0.2426      0.095      2.561      0.010       0.057       0.428\n",
       "Density_34703990         0.2388      0.088      2.710      0.007       0.066       0.412\n",
       "Density_39904180         0.4360      0.089      4.875      0.000       0.261       0.611\n",
       "Density_41804730         0.4842      0.084      5.750      0.000       0.319       0.649\n",
       "Density_47305630         0.3338      0.098      3.411      0.001       0.142       0.526\n",
       "Density_56306450         0.3206      0.092      3.500      0.000       0.141       0.500\n",
       "Density_64507410         0.2825      0.095      2.985      0.003       0.097       0.468\n",
       "Density_74108370         0.4408      0.091      4.870      0.000       0.263       0.618\n",
       "Density_837010010        0.4945      0.092      5.402      0.000       0.315       0.674\n",
       "Density_1001011270       0.5326      0.085      6.256      0.000       0.366       0.700\n",
       "Density_1127012960       0.4580      0.092      4.992      0.000       0.278       0.638\n",
       "Density_1296013130       0.5277      0.083      6.394      0.000       0.366       0.689\n",
       "Density_1313014450       0.5457      0.088      6.229      0.000       0.374       0.717\n",
       "Density_1445017840       0.3481      0.102      3.419      0.001       0.149       0.548\n",
       "Density_1784021470       0.4689      0.093      5.027      0.000       0.286       0.652\n",
       "Density_2147026560       0.5631      0.097      5.790      0.000       0.372       0.754\n",
       "Density_2656030210       0.5746      0.093      6.210      0.000       0.393       0.756\n",
       "Density_3021035410       0.5679      0.089      6.362      0.000       0.393       0.743\n",
       "Density_3541040590       0.4896      0.103      4.736      0.000       0.287       0.692\n",
       "Density_4059041280       0.6430      0.080      8.006      0.000       0.486       0.800\n",
       "Density_4128044080       0.4865      0.122      3.986      0.000       0.247       0.726\n",
       "Density_4408056280       0.4282      0.109      3.918      0.000       0.214       0.642\n",
       "Density_5628071870       0.4925      0.109      4.527      0.000       0.279       0.706\n",
       "Density_71870126500      0.5217      0.106      4.945      0.000       0.315       0.729\n",
       "Density_126500270000     0.6154      0.086      7.141      0.000       0.447       0.784\n",
       "========================================================================================\n",
       "\"\"\""
      ]
     },
     "execution_count": 408,
     "metadata": {},
     "output_type": "execute_result"
    }
   ],
   "source": [
    "poisson_reg = smf.glm(str(formula), train_df, family=sm.families.Poisson(), freq_weights=train_df['Exposure']).fit()\n",
    "poisson_reg.summary()"
   ]
  },
  {
   "cell_type": "code",
   "execution_count": 409,
   "metadata": {},
   "outputs": [],
   "source": [
    "pred = poisson_reg.predict(test_df.drop(['ClaimNb', 'Exposure'], axis=1))"
   ]
  },
  {
   "cell_type": "markdown",
   "metadata": {},
   "source": [
    "#### Gini"
   ]
  },
  {
   "cell_type": "code",
   "execution_count": 412,
   "metadata": {},
   "outputs": [
    {
     "name": "stdout",
     "output_type": "stream",
     "text": [
      "Ważony Gini:  0.1793\n"
     ]
    }
   ],
   "source": [
    "test_df['Prediction'] = pred\n",
    "DF_for_gini = test_df[['ClaimNb', 'Exposure', 'Prediction']]\n",
    "print(\"Ważony Gini: \" , round(weightedGini(DF_for_gini), 4))"
   ]
  },
  {
   "cell_type": "markdown",
   "metadata": {},
   "source": [
    "Dzięki podziale zmiennych ilościowych na koszyki udało się zwiększyc współczynnik Giniego do .1793, co jest relatywnie dużą poprawą wobec zwykłego modelu."
   ]
  },
  {
   "cell_type": "markdown",
   "metadata": {},
   "source": [
    "## 6. Gradient Boosting Model"
   ]
  },
  {
   "cell_type": "markdown",
   "metadata": {},
   "source": [
    "Nie znałem tego modelu wcześniej. Opierałem się materiałami znalezionymi w internecie.\n",
    "\n",
    "Źródło: <br>\n",
    "https://www.analyticsvidhya.com/blog/2016/02/complete-guide-parameter-tuning-gradient-boosting-gbm-python/\n",
    "https://scikit-learn.org/stable/auto_examples/ensemble/plot_gradient_boosting_regression.html"
   ]
  },
  {
   "cell_type": "code",
   "execution_count": 4,
   "metadata": {},
   "outputs": [],
   "source": [
    "from sklearn.ensemble import GradientBoostingRegressor  #GBM algorithm"
   ]
  },
  {
   "cell_type": "code",
   "execution_count": 5,
   "metadata": {},
   "outputs": [],
   "source": [
    "# Reset zbioru\n",
    "df = pd.read_csv('MTPLfreq.csv')\n",
    "df.set_index('PolicyID', inplace = True)\n",
    "df.loc[df.Brand=='Renault, Nissan or Citroen', 'Brand'] = 'A'\n",
    "df.loc[df.Brand=='Volkswagen, Audi, Skoda or Seat', 'Brand'] = 'B'\n",
    "df.loc[df.Brand=='Opel, General Motors or Ford', 'Brand'] = 'C'\n",
    "df.loc[df.Brand=='Fiat', 'Brand'] = 'D'\n",
    "df.loc[df.Brand=='Mercedes, Chrysler or BMW', 'Brand'] = 'E'\n",
    "df.loc[df.Brand=='Japanese (except Nissan) or Korean', 'Brand'] = 'F'\n",
    "df.loc[df.Brand=='other', 'Brand'] = 'G'\n",
    "train_df = df.loc[(df.index.map(lambda x: str(x)[-1:])!='8') & (df.index.map(lambda x: str(x)[-1:])!='9'),]\n",
    "test_df = df.loc[(df.index.map(lambda x: str(x)[-1:])=='8') | (df.index.map(lambda x: str(x)[-1:])=='9'),]\n",
    "del df\n",
    "train_df = pd.get_dummies(train_df)\n",
    "test_df = pd.get_dummies(test_df)"
   ]
  },
  {
   "cell_type": "code",
   "execution_count": 6,
   "metadata": {},
   "outputs": [],
   "source": [
    "train_df = train_df.drop([\"Gas_Regular\", \"Region_R72\",\n",
    "                          \"Power_o\", \n",
    "                          \"Brand_D\"], axis= 1)\n",
    "test_df = test_df.drop([\"Gas_Regular\", \"Region_R72\",\n",
    "                          \"Power_o\", \n",
    "                          \"Brand_D\"], axis= 1)"
   ]
  },
  {
   "cell_type": "code",
   "execution_count": 7,
   "metadata": {},
   "outputs": [],
   "source": [
    "# Wybierz wszystkie zmienne\n",
    "predictors = train_df.drop(['ClaimNb', 'Exposure'], axis=1).columns"
   ]
  },
  {
   "cell_type": "code",
   "execution_count": 8,
   "metadata": {},
   "outputs": [],
   "source": [
    "params = {'n_estimators': 1000, 'max_depth': 4, 'min_samples_split': 2,\n",
    "          'learning_rate': 0.01, 'loss': 'ls'}"
   ]
  },
  {
   "cell_type": "code",
   "execution_count": null,
   "metadata": {},
   "outputs": [],
   "source": [
    "gbm0 = GradientBoostingRegressor(**params)\n",
    "gbm_reg = gbm0.fit(train_df[predictors],train_df['ClaimNb'], sample_weight = train_df['Exposure'])"
   ]
  },
  {
   "cell_type": "code",
   "execution_count": null,
   "metadata": {},
   "outputs": [],
   "source": [
    "pred_gbm = gbm_reg.predict(test_df[predictors])"
   ]
  },
  {
   "cell_type": "code",
   "execution_count": null,
   "metadata": {},
   "outputs": [],
   "source": [
    "test_df['Prediction'] = pred_gbm\n",
    "DF_for_gini = test_df[['ClaimNb', 'Exposure', 'Prediction']]\n",
    "Print(\"Ważony Gini: \", weightedGini(DF_for_gini))"
   ]
  },
  {
   "cell_type": "markdown",
   "metadata": {},
   "source": [
    "Dla powyższych parametrów (wziętych wprost z przykładu znalezionego w internecie) udało się otrzymać współczynnik Gini na poziomie .1795, co i tak jest wynikiem lepszym niż wszystkie modele, które przygotowałem powyżej. Gdybym miał więcej czasu, przeprowadziłbym kalibrację parametrów. "
   ]
  },
  {
   "cell_type": "code",
   "execution_count": 428,
   "metadata": {
    "scrolled": false
   },
   "outputs": [
    {
     "data": {
      "image/png": "[encoded data removed]",
      "text/plain": [
       "<Figure size 864x432 with 1 Axes>"
      ]
     },
     "metadata": {},
     "output_type": "display_data"
    }
   ],
   "source": [
    "# Plot feature importance\n",
    "feature_importance = gbm0.feature_importances_\n",
    "# make importances relative to max importance\n",
    "feature_importance = 100.0 * (feature_importance / feature_importance.max())\n",
    "sorted_idx = np.argsort(feature_importance)\n",
    "pos = np.arange(sorted_idx.shape[0]) + .5\n",
    "plt.figure(figsize=(12, 6))\n",
    "plt.subplot(1, 2, 2)\n",
    "plt.barh(pos, feature_importance[sorted_idx], align='center')\n",
    "plt.yticks(pos, test_df[predictors].columns[sorted_idx])\n",
    "plt.xlabel('Relative Importance')\n",
    "plt.title('Variable Importance')\n",
    "plt.show()"
   ]
  },
  {
   "cell_type": "markdown",
   "metadata": {},
   "source": [
    "## 7. Podsumowanie"
   ]
  },
  {
   "cell_type": "markdown",
   "metadata": {},
   "source": [
    "Model glm ze splajnami i gbm uzyskały podobne wartości współczynnika ważonego Gini (około 0.18). Oba jednak nie są jeszcze idealne. Żeby poprawić dopasowanie, w modelu ze splajnami należy wykorzystać wielomiany, natomiast model gbm dobrze by było porządnie skalibrować. Niestety kalibracja gbm wymaga przeliczenia modelu gbm wiele razy, a nawet jedna iteracja zajmuje dużo czasu, więc pozostawię model w takim formacie jak jest."
   ]
  }
 ],
 "metadata": {
  "kernelspec": {
   "display_name": "Python 3",
   "language": "python",
   "name": "python3"
  },
  "language_info": {
   "codemirror_mode": {
    "name": "ipython",
    "version": 3
   },
   "file_extension": ".py",
   "mimetype": "text/x-python",
   "name": "python",
   "nbconvert_exporter": "python",
   "pygments_lexer": "ipython3",
   "version": "3.6.4"
  }
 },
 "nbformat": 4,
 "nbformat_minor": 2
}
